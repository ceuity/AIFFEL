{
 "cells": [
  {
   "cell_type": "code",
   "execution_count": 1,
   "metadata": {},
   "outputs": [
    {
     "name": "stdout",
     "output_type": "stream",
     "text": [
      "데이터 크기: 187088\n",
      "Examples:\n",
      " ['\"Don\\'t worry about a thing,', \"'Cause every little thing gonna be all right.\", 'Singin\\': \"Don\\'t worry about a thing,']\n"
     ]
    }
   ],
   "source": [
    "#데이터 불러오기\n",
    "import glob\n",
    "import os\n",
    "import re\n",
    "import numpy as np\n",
    "import tensorflow as tf\n",
    "from sklearn.model_selection import train_test_split\n",
    "\n",
    "txt_file_path = os.getenv('HOME')+'/aiffel/lyricist/data/lyrics/*'\n",
    "\n",
    "txt_list = glob.glob(txt_file_path)\n",
    "\n",
    "raw_corpus = []\n",
    "\n",
    "# 여러개의 txt 파일을 모두 읽어서 raw_corpus 에 담습니다.\n",
    "for txt_file in txt_list:\n",
    "    with open(txt_file, \"r\") as f:\n",
    "        raw = f.read().splitlines()\n",
    "        raw_corpus.extend(raw)\n",
    "\n",
    "print(\"데이터 크기:\", len(raw_corpus))\n",
    "print(\"Examples:\\n\", raw_corpus[:3])"
   ]
  },
  {
   "cell_type": "code",
   "execution_count": 2,
   "metadata": {},
   "outputs": [
    {
     "name": "stdout",
     "output_type": "stream",
     "text": [
      "\"Don't worry about a thing,\n",
      "'Cause every little thing gonna be all right.\n",
      "Singin': \"Don't worry about a thing,\n",
      "'Cause every little thing gonna be all right!\" Rise up this mornin',\n",
      "Smiled with the risin' sun,\n",
      "Three little birds\n",
      "Perch by my doorstep\n",
      "Singin' sweet songs\n",
      "Of melodies pure and true,\n",
      "Sayin', (\"This is my message to you-ou-ou:\") Singin': \"Don't worry 'bout a thing,\n"
     ]
    }
   ],
   "source": [
    "# 문장 indexing\n",
    "for idx, sentence in enumerate(raw_corpus):\n",
    "    if len(sentence) == 0: continue   # 길이가 0인 문장은 스킵\n",
    "\n",
    "    if idx > 9: break\n",
    "        \n",
    "    print(sentence)"
   ]
  },
  {
   "cell_type": "code",
   "execution_count": 3,
   "metadata": {},
   "outputs": [],
   "source": [
    "# 문장 전처리 함수\n",
    "def preprocess_sentence(sentence):\n",
    "    sentence = sentence.lower().strip() # 소문자로 바꾸고 양쪽 공백을 삭제\n",
    "\n",
    "    # 정규식을 이용하여 문장 처리\n",
    "    sentence = re.sub(r\"([?.!,¿])\", r\" \\1 \", sentence) # 패턴의 특수문자를 만나면 특수문자 양쪽에 공백을 추가\n",
    "    sentence = re.sub(r'[\" \"]+', \" \", sentence) # 공백 패턴을 만나면 스페이스 1개로 치환\n",
    "    sentence = re.sub(r\"[^a-zA-Z?.!,¿]+\", \" \", sentence) # a-zA-Z?.!,¿ 패턴을 제외한 모든 문자(공백문자까지도)를 스페이스 1개로 치환\n",
    "\n",
    "    sentence = sentence.strip()\n",
    "\n",
    "    sentence = '<start> ' + sentence + ' <end>'\n",
    "    return sentence"
   ]
  },
  {
   "cell_type": "code",
   "execution_count": 4,
   "metadata": {},
   "outputs": [
    {
     "name": "stdout",
     "output_type": "stream",
     "text": [
      "['<start> don t worry about a thing , <end>', '<start> cause every little thing gonna be all right . <end>']\n",
      "156013\n"
     ]
    }
   ],
   "source": [
    "corpus = []\n",
    "\n",
    "# 모든 문장에 전처리 함수 적용\n",
    "for sentence in raw_corpus:\n",
    "    if len(sentence) == 0:\n",
    "        continue\n",
    "    if sentence[-1] == \":\":\n",
    "        continue\n",
    "    temp = preprocess_sentence(sentence)\n",
    "    if len(temp.split()) <= 15:\n",
    "        corpus.append(temp)\n",
    "        \n",
    "print(corpus[:2])\n",
    "print(len(corpus))"
   ]
  },
  {
   "cell_type": "code",
   "execution_count": 5,
   "metadata": {},
   "outputs": [
    {
     "name": "stdout",
     "output_type": "stream",
     "text": [
      "['<start>', 'don', 't', 'worry', 'about', 'a', 'thing', ',', '<end>']\n"
     ]
    },
    {
     "data": {
      "text/plain": [
       "9"
      ]
     },
     "execution_count": 5,
     "metadata": {},
     "output_type": "execute_result"
    }
   ],
   "source": [
    "print(corpus[0].split())\n",
    "len(corpus[0].split())"
   ]
  },
  {
   "cell_type": "code",
   "execution_count": 6,
   "metadata": {},
   "outputs": [
    {
     "name": "stdout",
     "output_type": "stream",
     "text": [
      "[[  0   0   0 ... 183   5   3]\n",
      " [  0   0   0 ...  87  22   3]\n",
      " [  0   0   0 ... 183   5   3]\n",
      " ...\n",
      " [  0   0   0 ...  13  86   3]\n",
      " [  0   0   0 ...  20 211   3]\n",
      " [  0   0   0 ... 648 138   3]] <keras_preprocessing.text.Tokenizer object at 0x7fe3b1b40090>\n"
     ]
    }
   ],
   "source": [
    "def tokenize(corpus):\n",
    "    # 텐서플로우에서 제공하는 Tokenizer 패키지를 생성\n",
    "    tokenizer = tf.keras.preprocessing.text.Tokenizer(\n",
    "        num_words=15000,  # 전체 단어의 개수 \n",
    "        filters=' ',      # 전처리 로직\n",
    "        oov_token=\"<unk>\" # out-of-vocabulary, 사전에 없는 단어\n",
    "    )\n",
    "    tokenizer.fit_on_texts(corpus) # 우리가 구축한 corpus로부터 Tokenizer가 사전을 자동구축\n",
    "\n",
    "    # tokenizer를 활용하여 모델에 입력할 데이터셋을 구축\n",
    "    tensor = tokenizer.texts_to_sequences(corpus) # tokenizer는 구축한 사전으로부터 corpus를 해석해 Tensor로 변환\n",
    "\n",
    "    # 입력 데이터의 시퀀스 길이를 일정하게 맞추기 위한 padding 메소드\n",
    "    # maxlen의 디폴트값은 None입니다. 이 경우 corpus의 가장 긴 문장을 기준으로 시퀀스 길이가 맞춰진다\n",
    "    tensor = tf.keras.preprocessing.sequence.pad_sequences(tensor,\n",
    "                                                           padding='pre',\n",
    "                                                           maxlen=15)\n",
    "\n",
    "    print(tensor,tokenizer)\n",
    "    return tensor, tokenizer\n",
    "\n",
    "tensor, tokenizer = tokenize(corpus)"
   ]
  },
  {
   "cell_type": "code",
   "execution_count": 7,
   "metadata": {},
   "outputs": [
    {
     "name": "stdout",
     "output_type": "stream",
     "text": [
      "15\n"
     ]
    }
   ],
   "source": [
    "print(len(tensor[10,:])) # 생성된 텐서 데이터 확인"
   ]
  },
  {
   "cell_type": "code",
   "execution_count": 8,
   "metadata": {},
   "outputs": [
    {
     "name": "stdout",
     "output_type": "stream",
     "text": [
      "1 : <unk>\n",
      "2 : <start>\n",
      "3 : <end>\n",
      "4 : i\n",
      "5 : ,\n",
      "6 : the\n",
      "7 : you\n",
      "8 : and\n",
      "9 : a\n",
      "10 : to\n",
      "11 : it\n",
      "12 : me\n",
      "13 : my\n",
      "14 : in\n",
      "15 : that\n",
      "16 : t\n",
      "17 : s\n",
      "18 : on\n",
      "19 : your\n",
      "20 : of\n"
     ]
    }
   ],
   "source": [
    "# 단어 사전의 index\n",
    "for idx in tokenizer.index_word:\n",
    "    print(idx, \":\", tokenizer.index_word[idx])\n",
    "\n",
    "    if idx >= 20: break"
   ]
  },
  {
   "cell_type": "code",
   "execution_count": 9,
   "metadata": {},
   "outputs": [],
   "source": [
    "# 문장 생성\n",
    "src_input = tensor[:, :-1] # tensor에서 마지막 토큰을 잘라내서 소스 문장을 생성. 마지막 토큰은 <end>가 아니라 <pad>일 가능성이 높다.\n",
    "tgt_input = tensor[:, 1:]  # tensor에서 <start>를 잘라내서 타겟 문장을 생성."
   ]
  },
  {
   "cell_type": "code",
   "execution_count": 10,
   "metadata": {},
   "outputs": [
    {
     "name": "stdout",
     "output_type": "stream",
     "text": [
      "[  0   0   0   0   0   0   2  40  16 700 111   9 183   5]\n",
      "[  0   0   0   0   0   2  40  16 700 111   9 183   5   3]\n"
     ]
    }
   ],
   "source": [
    "# 생성된 문장 확인\n",
    "print(src_input[0])\n",
    "print(tgt_input[0])"
   ]
  },
  {
   "cell_type": "code",
   "execution_count": 11,
   "metadata": {},
   "outputs": [],
   "source": [
    "enc_train, enc_val, dec_train, dec_val = train_test_split(src_input,\n",
    "                                                          tgt_input,\n",
    "                                                          test_size=0.2,\n",
    "                                                          shuffle=True)"
   ]
  },
  {
   "cell_type": "code",
   "execution_count": 12,
   "metadata": {},
   "outputs": [
    {
     "name": "stdout",
     "output_type": "stream",
     "text": [
      "Source Train: (124810, 14)\n",
      "Target Train: (124810, 14)\n"
     ]
    }
   ],
   "source": [
    "# 분리된 데이터 확인\n",
    "print(\"Source Train:\", enc_train.shape)\n",
    "print(\"Target Train:\", dec_train.shape)"
   ]
  },
  {
   "cell_type": "code",
   "execution_count": 13,
   "metadata": {},
   "outputs": [
    {
     "data": {
      "text/plain": [
       "<BatchDataset shapes: ((512, 14), (512, 14)), types: (tf.int32, tf.int32)>"
      ]
     },
     "execution_count": 13,
     "metadata": {},
     "output_type": "execute_result"
    }
   ],
   "source": [
    "# 데이터셋 구축\n",
    "BUFFER_SIZE = len(enc_train)\n",
    "BATCH_SIZE = 512\n",
    "steps_per_epoch = len(enc_train) // BATCH_SIZE\n",
    "\n",
    "VOCAB_SIZE = tokenizer.num_words + 1    # 0:<pad>를 포함하여 dictionary 갯수 + 1\n",
    "\n",
    "dataset = tf.data.Dataset.from_tensor_slices((enc_train, dec_train)).shuffle(BUFFER_SIZE)\n",
    "dataset = dataset.batch(BATCH_SIZE, drop_remainder=True)\n",
    "dataset"
   ]
  },
  {
   "cell_type": "code",
   "execution_count": 14,
   "metadata": {},
   "outputs": [],
   "source": [
    "# 모델 생성 함수\n",
    "class TextGenerator(tf.keras.Model):\n",
    "    def __init__(self, vocab_size, embedding_size, hidden_size):\n",
    "        super(TextGenerator, self).__init__()\n",
    "        \n",
    "        self.embedding = tf.keras.layers.Embedding(vocab_size, embedding_size)\n",
    "        self.rnn_1 = tf.keras.layers.LSTM(hidden_size, return_sequences=True)\n",
    "        self.rnn_2 = tf.keras.layers.LSTM(hidden_size, return_sequences=True)\n",
    "        self.linear = tf.keras.layers.Dense(vocab_size)\n",
    "        \n",
    "    def call(self, x):\n",
    "        out = self.embedding(x)\n",
    "        out = self.rnn_1(out)\n",
    "        out = self.rnn_2(out)\n",
    "        out = self.linear(out)\n",
    "        \n",
    "        return out "
   ]
  },
  {
   "cell_type": "code",
   "execution_count": 15,
   "metadata": {},
   "outputs": [],
   "source": [
    "# 모델 생성\n",
    "embedding_size = 256 # 워드 벡터의 차원 수\n",
    "hidden_size = 1024 # LSTM Layer의 hidden 차원 수\n",
    "model = TextGenerator(tokenizer.num_words + 1, embedding_size , hidden_size)"
   ]
  },
  {
   "cell_type": "code",
   "execution_count": 16,
   "metadata": {},
   "outputs": [
    {
     "data": {
      "text/plain": [
       "<tf.Tensor: shape=(512, 14, 15001), dtype=float32, numpy=\n",
       "array([[[ 1.9771998e-05, -6.9450849e-05, -1.1234502e-04, ...,\n",
       "          6.2190185e-05,  3.8030968e-05, -1.1009554e-04],\n",
       "        [ 2.2038326e-05, -1.9186492e-04, -2.4315239e-04, ...,\n",
       "          1.4041638e-04,  8.4258420e-05, -2.6918054e-04],\n",
       "        [-2.0556738e-06, -3.5295082e-04, -3.4720206e-04, ...,\n",
       "          2.1232711e-04,  1.2957367e-04, -4.4282488e-04],\n",
       "        ...,\n",
       "        [-6.4019096e-04, -2.4534619e-04,  7.1334018e-04, ...,\n",
       "          3.1794683e-04,  1.7418242e-04, -9.6220814e-04],\n",
       "        [-4.9250881e-04, -1.7646419e-04,  6.1941915e-04, ...,\n",
       "          3.1238963e-04,  1.1403893e-04, -8.4534171e-04],\n",
       "        [-1.7495523e-04, -1.4851193e-04,  7.0127443e-04, ...,\n",
       "          7.1861705e-06, -1.5498503e-04, -8.3294150e-04]],\n",
       "\n",
       "       [[ 1.9771998e-05, -6.9450849e-05, -1.1234502e-04, ...,\n",
       "          6.2190185e-05,  3.8030968e-05, -1.1009554e-04],\n",
       "        [ 2.2038326e-05, -1.9186492e-04, -2.4315239e-04, ...,\n",
       "          1.4041638e-04,  8.4258420e-05, -2.6918054e-04],\n",
       "        [-2.0556738e-06, -3.5295082e-04, -3.4720206e-04, ...,\n",
       "          2.1232711e-04,  1.2957367e-04, -4.4282488e-04],\n",
       "        ...,\n",
       "        [-5.8986736e-04, -1.9755266e-03, -7.6298870e-04, ...,\n",
       "          6.5856456e-04,  4.7328541e-04, -4.6277913e-04],\n",
       "        [-2.3891960e-04, -1.7216037e-03, -9.3331275e-04, ...,\n",
       "          8.6831924e-04,  6.1508745e-04, -4.1190870e-04],\n",
       "        [-3.8785973e-05, -1.4336815e-03, -9.0204523e-04, ...,\n",
       "          8.8098389e-04,  6.6505338e-04, -3.0498960e-04]],\n",
       "\n",
       "       [[ 1.9771998e-05, -6.9450849e-05, -1.1234502e-04, ...,\n",
       "          6.2190185e-05,  3.8030968e-05, -1.1009554e-04],\n",
       "        [ 2.2038326e-05, -1.9186492e-04, -2.4315239e-04, ...,\n",
       "          1.4041638e-04,  8.4258420e-05, -2.6918054e-04],\n",
       "        [-2.0556738e-06, -3.5295082e-04, -3.4720206e-04, ...,\n",
       "          2.1232711e-04,  1.2957367e-04, -4.4282488e-04],\n",
       "        ...,\n",
       "        [-1.2995716e-03, -2.0402668e-03,  5.8938534e-04, ...,\n",
       "         -9.1581082e-05,  5.0787948e-04, -1.2200186e-03],\n",
       "        [-1.2942730e-03, -2.0551390e-03,  4.8988458e-04, ...,\n",
       "         -1.8477671e-04,  7.0082943e-04, -1.0062951e-03],\n",
       "        [-1.2042684e-03, -2.2044224e-03,  2.3951739e-04, ...,\n",
       "         -1.5846509e-04,  8.1110926e-04, -1.2928850e-03]],\n",
       "\n",
       "       ...,\n",
       "\n",
       "       [[ 1.9771998e-05, -6.9450849e-05, -1.1234502e-04, ...,\n",
       "          6.2190185e-05,  3.8030968e-05, -1.1009554e-04],\n",
       "        [ 2.2038326e-05, -1.9186492e-04, -2.4315239e-04, ...,\n",
       "          1.4041638e-04,  8.4258420e-05, -2.6918054e-04],\n",
       "        [-2.0556738e-06, -3.5295082e-04, -3.4720206e-04, ...,\n",
       "          2.1232711e-04,  1.2957367e-04, -4.4282488e-04],\n",
       "        ...,\n",
       "        [-2.0445709e-04, -1.3021420e-03,  1.7335690e-03, ...,\n",
       "          5.5304226e-05,  8.1272895e-04, -1.3431285e-03],\n",
       "        [-3.0574249e-04, -1.1007614e-03,  1.8049146e-03, ...,\n",
       "         -7.4436517e-05,  6.9694972e-04, -1.2404165e-03],\n",
       "        [-2.1196854e-04, -9.0098474e-04,  1.7144531e-03, ...,\n",
       "         -2.1559816e-04,  4.8872980e-04, -9.9326216e-04]],\n",
       "\n",
       "       [[ 1.9771998e-05, -6.9450849e-05, -1.1234502e-04, ...,\n",
       "          6.2190185e-05,  3.8030968e-05, -1.1009554e-04],\n",
       "        [ 2.2038326e-05, -1.9186492e-04, -2.4315239e-04, ...,\n",
       "          1.4041638e-04,  8.4258420e-05, -2.6918054e-04],\n",
       "        [-2.0556738e-06, -3.5295082e-04, -3.4720206e-04, ...,\n",
       "          2.1232711e-04,  1.2957367e-04, -4.4282488e-04],\n",
       "        ...,\n",
       "        [-1.6866610e-05, -1.3114113e-03, -2.1441265e-04, ...,\n",
       "         -2.1681028e-04,  3.0518416e-04, -1.2434872e-03],\n",
       "        [-1.2462206e-04, -1.1840451e-03,  1.5957287e-04, ...,\n",
       "          5.5037643e-05,  3.5263077e-04, -9.8211190e-04],\n",
       "        [-5.9633130e-05, -1.2219156e-03,  4.3144581e-04, ...,\n",
       "          5.6651286e-05,  6.0006295e-04, -6.2630320e-04]],\n",
       "\n",
       "       [[ 1.9771998e-05, -6.9450849e-05, -1.1234502e-04, ...,\n",
       "          6.2190185e-05,  3.8030968e-05, -1.1009554e-04],\n",
       "        [ 2.2038326e-05, -1.9186492e-04, -2.4315239e-04, ...,\n",
       "          1.4041638e-04,  8.4258420e-05, -2.6918054e-04],\n",
       "        [-2.0556738e-06, -3.5295082e-04, -3.4720206e-04, ...,\n",
       "          2.1232711e-04,  1.2957367e-04, -4.4282488e-04],\n",
       "        ...,\n",
       "        [-6.8542635e-04,  1.2910081e-04,  7.7195856e-04, ...,\n",
       "         -3.3380164e-04, -4.1743751e-06, -1.0065372e-03],\n",
       "        [-4.6901853e-04,  4.1089873e-04,  5.3652673e-04, ...,\n",
       "         -4.4603238e-04, -2.3806920e-04, -9.8621356e-04],\n",
       "        [-3.6715899e-04,  2.1149362e-04,  2.7864988e-04, ...,\n",
       "         -6.5606809e-04, -4.0180053e-04, -9.4721821e-04]]], dtype=float32)>"
      ]
     },
     "execution_count": 16,
     "metadata": {},
     "output_type": "execute_result"
    }
   ],
   "source": [
    "# 모델의 데이터 확인\n",
    "for src_sample, tgt_sample in dataset.take(1): break\n",
    "model(src_sample)"
   ]
  },
  {
   "cell_type": "code",
   "execution_count": 17,
   "metadata": {},
   "outputs": [
    {
     "name": "stdout",
     "output_type": "stream",
     "text": [
      "Model: \"text_generator\"\n",
      "_________________________________________________________________\n",
      "Layer (type)                 Output Shape              Param #   \n",
      "=================================================================\n",
      "embedding (Embedding)        multiple                  3840256   \n",
      "_________________________________________________________________\n",
      "lstm (LSTM)                  multiple                  5246976   \n",
      "_________________________________________________________________\n",
      "lstm_1 (LSTM)                multiple                  8392704   \n",
      "_________________________________________________________________\n",
      "dense (Dense)                multiple                  15376025  \n",
      "=================================================================\n",
      "Total params: 32,855,961\n",
      "Trainable params: 32,855,961\n",
      "Non-trainable params: 0\n",
      "_________________________________________________________________\n"
     ]
    }
   ],
   "source": [
    "# 모델의 최종 출력 shape는 (256, 14, 15001)\n",
    "# 256은 batch_size, 14는 squence_length, 15001은 단어의 갯수(Dense Layer 출력 차원 수)\n",
    "\n",
    "model.summary() # sequence_length를 모르기 때문에 Output shape를 정확하게 모른다."
   ]
  },
  {
   "cell_type": "code",
   "execution_count": 18,
   "metadata": {},
   "outputs": [
    {
     "name": "stdout",
     "output_type": "stream",
     "text": [
      "Epoch 1/30\n",
      "243/243 [==============================] - 60s 246ms/step - loss: 4.0599\n",
      "Epoch 2/30\n",
      "243/243 [==============================] - 61s 251ms/step - loss: 3.4856\n",
      "Epoch 3/30\n",
      "243/243 [==============================] - 61s 253ms/step - loss: 3.3165\n",
      "Epoch 4/30\n",
      "243/243 [==============================] - 62s 254ms/step - loss: 3.2282\n",
      "Epoch 5/30\n",
      "243/243 [==============================] - 62s 254ms/step - loss: 3.1742\n",
      "Epoch 6/30\n",
      "243/243 [==============================] - 62s 255ms/step - loss: 3.1273\n",
      "Epoch 7/30\n",
      "243/243 [==============================] - 62s 255ms/step - loss: 3.0832\n",
      "Epoch 8/30\n",
      "243/243 [==============================] - 61s 253ms/step - loss: 3.0419\n",
      "Epoch 9/30\n",
      "243/243 [==============================] - 62s 253ms/step - loss: 3.0043\n",
      "Epoch 10/30\n",
      "243/243 [==============================] - 62s 256ms/step - loss: 2.9677\n",
      "Epoch 11/30\n",
      "243/243 [==============================] - 62s 256ms/step - loss: 2.9319\n",
      "Epoch 12/30\n",
      "243/243 [==============================] - 62s 256ms/step - loss: 2.8985\n",
      "Epoch 13/30\n",
      "243/243 [==============================] - 62s 256ms/step - loss: 2.8680\n",
      "Epoch 14/30\n",
      "243/243 [==============================] - 62s 257ms/step - loss: 2.8371\n",
      "Epoch 15/30\n",
      "243/243 [==============================] - 63s 258ms/step - loss: 2.8103\n",
      "Epoch 16/30\n",
      "243/243 [==============================] - 62s 255ms/step - loss: 2.8052\n",
      "Epoch 17/30\n",
      "243/243 [==============================] - 62s 255ms/step - loss: 2.7750\n",
      "Epoch 18/30\n",
      "243/243 [==============================] - 62s 255ms/step - loss: 2.7395\n",
      "Epoch 19/30\n",
      "243/243 [==============================] - 62s 255ms/step - loss: 2.7116\n",
      "Epoch 20/30\n",
      "243/243 [==============================] - 62s 255ms/step - loss: 2.6836\n",
      "Epoch 21/30\n",
      "243/243 [==============================] - 62s 256ms/step - loss: 2.6556\n",
      "Epoch 22/30\n",
      "243/243 [==============================] - 62s 256ms/step - loss: 2.6281\n",
      "Epoch 23/30\n",
      "243/243 [==============================] - 62s 257ms/step - loss: 2.6001\n",
      "Epoch 24/30\n",
      "243/243 [==============================] - 62s 257ms/step - loss: 2.5702\n",
      "Epoch 25/30\n",
      "243/243 [==============================] - 62s 257ms/step - loss: 2.5401\n",
      "Epoch 26/30\n",
      "243/243 [==============================] - 62s 257ms/step - loss: 2.5082\n",
      "Epoch 27/30\n",
      "243/243 [==============================] - 62s 257ms/step - loss: 2.4815\n",
      "Epoch 28/30\n",
      "243/243 [==============================] - 62s 257ms/step - loss: 2.4565\n",
      "Epoch 29/30\n",
      "243/243 [==============================] - 62s 257ms/step - loss: 2.4327\n",
      "Epoch 30/30\n",
      "243/243 [==============================] - 62s 257ms/step - loss: 2.4086\n"
     ]
    },
    {
     "data": {
      "text/plain": [
       "<tensorflow.python.keras.callbacks.History at 0x7fe3b13a26d0>"
      ]
     },
     "execution_count": 18,
     "metadata": {},
     "output_type": "execute_result"
    }
   ],
   "source": [
    "# 모델 학습\n",
    "optimizer = tf.keras.optimizers.Adam()\n",
    "loss = tf.keras.losses.SparseCategoricalCrossentropy(\n",
    "    from_logits=True,\n",
    "    reduction='none'\n",
    ")\n",
    "\n",
    "model.compile(loss=loss, optimizer=optimizer)\n",
    "model.fit(dataset, epochs=30)"
   ]
  },
  {
   "cell_type": "code",
   "execution_count": 19,
   "metadata": {},
   "outputs": [],
   "source": [
    "def generate_text(model, tokenizer, init_sentence=\"<start>\", max_len=20):\n",
    "    # 테스트를 위해서 입력받은 init_sentence도 텐서로 변환\n",
    "    test_input = tokenizer.texts_to_sequences([init_sentence])\n",
    "    test_tensor = tf.convert_to_tensor(test_input, dtype=tf.int64)\n",
    "    end_token = tokenizer.word_index[\"<end>\"]\n",
    "\n",
    "    # 단어를 하나씩 생성\n",
    "    while True:\n",
    "        predict = model(test_tensor)  # 입력받은 문장\n",
    "        predict_word = tf.argmax(tf.nn.softmax(predict, axis=-1), axis=-1)[:, -1]   # 예측한 단어가 새로 생성된 단어 \n",
    "\n",
    "        # 우리 모델이 새롭게 예측한 단어를 입력 문장의 뒤에 붙이기\n",
    "        test_tensor = tf.concat([test_tensor, tf.expand_dims(predict_word, axis=0)], axis=-1)\n",
    "\n",
    "        # 우리 모델이 <end>를 예측했거나, max_len에 도달하지 않았다면  while 루프를 또 돌면서 다음 단어를 예측\n",
    "        if predict_word.numpy()[0] == end_token: break\n",
    "        if test_tensor.shape[1] >= max_len: break\n",
    "\n",
    "    generated = \"\"\n",
    "    # 생성된 tensor 안에 있는 word index를 tokenizer.index_word 사전을 통해 실제 단어로 하나씩 변환\n",
    "    for word_index in test_tensor[0].numpy():\n",
    "        generated += tokenizer.index_word[word_index] + \" \"\n",
    "\n",
    "    return generated   # 최종 생성된 자연어 문장"
   ]
  },
  {
   "cell_type": "code",
   "execution_count": 20,
   "metadata": {},
   "outputs": [
    {
     "data": {
      "text/plain": [
       "'<start> i love you , i m not stunning , i m a fool <end> '"
      ]
     },
     "execution_count": 20,
     "metadata": {},
     "output_type": "execute_result"
    }
   ],
   "source": [
    "generate_text(model, tokenizer, init_sentence=\"<start> i love\", max_len=20)"
   ]
  },
  {
   "cell_type": "code",
   "execution_count": null,
   "metadata": {},
   "outputs": [],
   "source": []
  }
 ],
 "metadata": {
  "kernelspec": {
   "display_name": "aiffel",
   "language": "python",
   "name": "aiffel"
  },
  "language_info": {
   "codemirror_mode": {
    "name": "ipython",
    "version": 3
   },
   "file_extension": ".py",
   "mimetype": "text/x-python",
   "name": "python",
   "nbconvert_exporter": "python",
   "pygments_lexer": "ipython3",
   "version": "3.7.9"
  }
 },
 "nbformat": 4,
 "nbformat_minor": 4
}
