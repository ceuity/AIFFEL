{
 "cells": [
  {
   "cell_type": "code",
   "execution_count": 1,
   "metadata": {},
   "outputs": [
    {
     "name": "stdout",
     "output_type": "stream",
     "text": [
      "데이터 크기: 187088\n",
      "Examples:\n",
      " ['\"Don\\'t worry about a thing,', \"'Cause every little thing gonna be all right.\", 'Singin\\': \"Don\\'t worry about a thing,']\n"
     ]
    }
   ],
   "source": [
    "#데이터 불러오기\n",
    "import glob\n",
    "import os\n",
    "import re\n",
    "import numpy as np\n",
    "import tensorflow as tf\n",
    "from sklearn.model_selection import train_test_split\n",
    "\n",
    "txt_file_path = os.getenv('HOME')+'/aiffel/lyricist/data/lyrics/*'\n",
    "\n",
    "txt_list = glob.glob(txt_file_path)\n",
    "\n",
    "raw_corpus = []\n",
    "\n",
    "# 여러개의 txt 파일을 모두 읽어서 raw_corpus 에 담습니다.\n",
    "for txt_file in txt_list:\n",
    "    with open(txt_file, \"r\") as f:\n",
    "        raw = f.read().splitlines()\n",
    "        raw_corpus.extend(raw)\n",
    "\n",
    "print(\"데이터 크기:\", len(raw_corpus))\n",
    "print(\"Examples:\\n\", raw_corpus[:3])"
   ]
  },
  {
   "cell_type": "code",
   "execution_count": 2,
   "metadata": {},
   "outputs": [
    {
     "name": "stdout",
     "output_type": "stream",
     "text": [
      "\"Don't worry about a thing,\n",
      "'Cause every little thing gonna be all right.\n",
      "Singin': \"Don't worry about a thing,\n",
      "'Cause every little thing gonna be all right!\" Rise up this mornin',\n",
      "Smiled with the risin' sun,\n",
      "Three little birds\n",
      "Perch by my doorstep\n",
      "Singin' sweet songs\n",
      "Of melodies pure and true,\n",
      "Sayin', (\"This is my message to you-ou-ou:\") Singin': \"Don't worry 'bout a thing,\n"
     ]
    }
   ],
   "source": [
    "# 문장 indexing\n",
    "for idx, sentence in enumerate(raw_corpus):\n",
    "    if len(sentence) == 0: continue   # 길이가 0인 문장은 스킵\n",
    "\n",
    "    if idx > 9: break\n",
    "        \n",
    "    print(sentence)"
   ]
  },
  {
   "cell_type": "code",
   "execution_count": 3,
   "metadata": {},
   "outputs": [],
   "source": [
    "# 문장 전처리 함수\n",
    "def preprocess_sentence(sentence):\n",
    "    sentence = sentence.lower().strip() # 소문자로 바꾸고 양쪽 공백을 삭제\n",
    "\n",
    "    # 정규식을 이용하여 문장 처리\n",
    "    sentence = re.sub(r\"([?.!,¿])\", r\" \\1 \", sentence) # 패턴의 특수문자를 만나면 특수문자 양쪽에 공백을 추가\n",
    "    sentence = re.sub(r'[\" \"]+', \" \", sentence) # 공백 패턴을 만나면 스페이스 1개로 치환\n",
    "    sentence = re.sub(r\"[^a-zA-Z?.!,¿]+\", \" \", sentence) # a-zA-Z?.!,¿ 패턴을 제외한 모든 문자(공백문자까지도)를 스페이스 1개로 치환\n",
    "\n",
    "    sentence = sentence.strip()\n",
    "\n",
    "    sentence = '<start> ' + sentence + ' <end>'\n",
    "    return sentence"
   ]
  },
  {
   "cell_type": "code",
   "execution_count": 4,
   "metadata": {},
   "outputs": [
    {
     "name": "stdout",
     "output_type": "stream",
     "text": [
      "['<start> don t worry about a thing , <end>', '<start> cause every little thing gonna be all right . <end>']\n",
      "156013\n"
     ]
    }
   ],
   "source": [
    "corpus = []\n",
    "\n",
    "# 모든 문장에 전처리 함수 적용\n",
    "for sentence in raw_corpus:\n",
    "    if len(sentence) == 0:\n",
    "        continue\n",
    "    if sentence[-1] == \":\":\n",
    "        continue\n",
    "    temp = preprocess_sentence(sentence)\n",
    "    if len(temp.split()) <= 15:\n",
    "        corpus.append(temp)\n",
    "        \n",
    "print(corpus[:2])\n",
    "print(len(corpus))"
   ]
  },
  {
   "cell_type": "code",
   "execution_count": 5,
   "metadata": {},
   "outputs": [
    {
     "name": "stdout",
     "output_type": "stream",
     "text": [
      "['<start>', 'don', 't', 'worry', 'about', 'a', 'thing', ',', '<end>']\n"
     ]
    },
    {
     "data": {
      "text/plain": [
       "9"
      ]
     },
     "execution_count": 5,
     "metadata": {},
     "output_type": "execute_result"
    }
   ],
   "source": [
    "print(corpus[0].split())\n",
    "len(corpus[0].split())"
   ]
  },
  {
   "cell_type": "code",
   "execution_count": 6,
   "metadata": {},
   "outputs": [
    {
     "name": "stdout",
     "output_type": "stream",
     "text": [
      "[[  0   0   0 ... 183   5   3]\n",
      " [  0   0   0 ...  87  22   3]\n",
      " [  0   0   0 ... 183   5   3]\n",
      " ...\n",
      " [  0   0   0 ...  13  86   3]\n",
      " [  0   0   0 ...  20 211   3]\n",
      " [  0   0   0 ... 648 138   3]] <keras_preprocessing.text.Tokenizer object at 0x7f9704c7c7d0>\n"
     ]
    }
   ],
   "source": [
    "def tokenize(corpus):\n",
    "    # 텐서플로우에서 제공하는 Tokenizer 패키지를 생성\n",
    "    tokenizer = tf.keras.preprocessing.text.Tokenizer(\n",
    "        num_words=15000,  # 전체 단어의 개수 \n",
    "        filters=' ',      # 전처리 로직\n",
    "        oov_token=\"<unk>\" # out-of-vocabulary, 사전에 없는 단어\n",
    "    )\n",
    "    tokenizer.fit_on_texts(corpus) # 우리가 구축한 corpus로부터 Tokenizer가 사전을 자동구축\n",
    "\n",
    "    # tokenizer를 활용하여 모델에 입력할 데이터셋을 구축\n",
    "    tensor = tokenizer.texts_to_sequences(corpus) # tokenizer는 구축한 사전으로부터 corpus를 해석해 Tensor로 변환\n",
    "\n",
    "    # 입력 데이터의 시퀀스 길이를 일정하게 맞추기 위한 padding 메소드\n",
    "    # maxlen의 디폴트값은 None입니다. 이 경우 corpus의 가장 긴 문장을 기준으로 시퀀스 길이가 맞춰진다\n",
    "    tensor = tf.keras.preprocessing.sequence.pad_sequences(tensor,\n",
    "                                                           padding='pre',\n",
    "                                                           maxlen=15)\n",
    "\n",
    "    print(tensor,tokenizer)\n",
    "    return tensor, tokenizer\n",
    "\n",
    "tensor, tokenizer = tokenize(corpus)"
   ]
  },
  {
   "cell_type": "code",
   "execution_count": 7,
   "metadata": {},
   "outputs": [
    {
     "name": "stdout",
     "output_type": "stream",
     "text": [
      "15\n"
     ]
    }
   ],
   "source": [
    "print(len(tensor[10,:])) # 생성된 텐서 데이터 확인"
   ]
  },
  {
   "cell_type": "code",
   "execution_count": 8,
   "metadata": {},
   "outputs": [
    {
     "name": "stdout",
     "output_type": "stream",
     "text": [
      "1 : <unk>\n",
      "2 : <start>\n",
      "3 : <end>\n",
      "4 : i\n",
      "5 : ,\n",
      "6 : the\n",
      "7 : you\n",
      "8 : and\n",
      "9 : a\n",
      "10 : to\n",
      "11 : it\n",
      "12 : me\n",
      "13 : my\n",
      "14 : in\n",
      "15 : that\n",
      "16 : t\n",
      "17 : s\n",
      "18 : on\n",
      "19 : your\n",
      "20 : of\n"
     ]
    }
   ],
   "source": [
    "# 단어 사전의 index\n",
    "for idx in tokenizer.index_word:\n",
    "    print(idx, \":\", tokenizer.index_word[idx])\n",
    "\n",
    "    if idx >= 20: break"
   ]
  },
  {
   "cell_type": "code",
   "execution_count": 9,
   "metadata": {},
   "outputs": [],
   "source": [
    "# 문장 생성\n",
    "src_input = tensor[:, :-1] # tensor에서 마지막 토큰을 잘라내서 소스 문장을 생성. 마지막 토큰은 <end>가 아니라 <pad>일 가능성이 높다.\n",
    "tgt_input = tensor[:, 1:]  # tensor에서 <start>를 잘라내서 타겟 문장을 생성."
   ]
  },
  {
   "cell_type": "code",
   "execution_count": 10,
   "metadata": {},
   "outputs": [
    {
     "name": "stdout",
     "output_type": "stream",
     "text": [
      "[  0   0   0   0   0   0   2  40  16 700 111   9 183   5]\n",
      "[  0   0   0   0   0   2  40  16 700 111   9 183   5   3]\n"
     ]
    }
   ],
   "source": [
    "# 생성된 문장 확인\n",
    "print(src_input[0])\n",
    "print(tgt_input[0])"
   ]
  },
  {
   "cell_type": "code",
   "execution_count": 11,
   "metadata": {},
   "outputs": [],
   "source": [
    "enc_train, enc_val, dec_train, dec_val = train_test_split(src_input,\n",
    "                                                          tgt_input,\n",
    "                                                          test_size=0.2,\n",
    "                                                          shuffle=True)"
   ]
  },
  {
   "cell_type": "code",
   "execution_count": 12,
   "metadata": {},
   "outputs": [
    {
     "name": "stdout",
     "output_type": "stream",
     "text": [
      "Source Train: (124810, 14)\n",
      "Target Train: (124810, 14)\n"
     ]
    }
   ],
   "source": [
    "# 분리된 데이터 확인\n",
    "print(\"Source Train:\", enc_train.shape)\n",
    "print(\"Target Train:\", dec_train.shape)"
   ]
  },
  {
   "cell_type": "code",
   "execution_count": 13,
   "metadata": {},
   "outputs": [
    {
     "data": {
      "text/plain": [
       "<BatchDataset shapes: ((1024, 14), (1024, 14)), types: (tf.int32, tf.int32)>"
      ]
     },
     "execution_count": 13,
     "metadata": {},
     "output_type": "execute_result"
    }
   ],
   "source": [
    "# 데이터셋 구축\n",
    "BUFFER_SIZE = len(enc_train)\n",
    "BATCH_SIZE = 1024\n",
    "steps_per_epoch = len(enc_train) // BATCH_SIZE\n",
    "\n",
    "VOCAB_SIZE = tokenizer.num_words + 1    # 0:<pad>를 포함하여 dictionary 갯수 + 1\n",
    "\n",
    "dataset = tf.data.Dataset.from_tensor_slices((enc_train, dec_train)).shuffle(BUFFER_SIZE)\n",
    "dataset = dataset.batch(BATCH_SIZE, drop_remainder=True)\n",
    "dataset"
   ]
  },
  {
   "cell_type": "code",
   "execution_count": 14,
   "metadata": {},
   "outputs": [],
   "source": [
    "# 모델 생성 함수\n",
    "class TextGenerator(tf.keras.Model):\n",
    "    def __init__(self, vocab_size, embedding_size, hidden_size):\n",
    "        super(TextGenerator, self).__init__()\n",
    "        \n",
    "        self.embedding = tf.keras.layers.Embedding(vocab_size, embedding_size)\n",
    "        self.rnn_1 = tf.keras.layers.LSTM(hidden_size, return_sequences=True)\n",
    "        self.rnn_2 = tf.keras.layers.LSTM(hidden_size, return_sequences=True)\n",
    "        self.linear = tf.keras.layers.Dense(vocab_size)\n",
    "        \n",
    "    def call(self, x):\n",
    "        out = self.embedding(x)\n",
    "        out = self.rnn_1(out)\n",
    "        out = self.rnn_2(out)\n",
    "        out = self.linear(out)\n",
    "        \n",
    "        return out "
   ]
  },
  {
   "cell_type": "code",
   "execution_count": 15,
   "metadata": {},
   "outputs": [],
   "source": [
    "# 모델 생성\n",
    "embedding_size = 256 # 워드 벡터의 차원 수\n",
    "hidden_size = 1024 # LSTM Layer의 hidden 차원 수\n",
    "model = TextGenerator(tokenizer.num_words + 1, embedding_size , hidden_size)"
   ]
  },
  {
   "cell_type": "code",
   "execution_count": 16,
   "metadata": {},
   "outputs": [
    {
     "data": {
      "text/plain": [
       "<tf.Tensor: shape=(1024, 14, 15001), dtype=float32, numpy=\n",
       "array([[[-9.43810210e-06,  7.45531070e-05, -1.69945196e-07, ...,\n",
       "          2.23979805e-04,  1.20146569e-05, -5.51804587e-05],\n",
       "        [-3.36680387e-05,  2.09059479e-04, -1.21870007e-05, ...,\n",
       "          5.69494965e-04, -3.31099691e-05, -1.03232749e-04],\n",
       "        [-7.05335988e-05,  3.83212930e-04, -4.12597474e-05, ...,\n",
       "          9.66588384e-04, -1.54205743e-04, -1.14841263e-04],\n",
       "        ...,\n",
       "        [-1.36596663e-03,  7.84573902e-04, -1.07793731e-03, ...,\n",
       "          5.31776677e-05, -1.64403464e-03,  5.52472949e-04],\n",
       "        [-1.65708666e-03,  7.34062283e-04, -1.12860184e-03, ...,\n",
       "         -7.47543672e-05, -1.59776700e-03,  4.48618579e-04],\n",
       "        [-1.81829429e-03,  7.21130578e-04, -1.12979312e-03, ...,\n",
       "         -2.39322282e-04, -1.45445240e-03,  3.67796049e-04]],\n",
       "\n",
       "       [[-9.43810210e-06,  7.45531070e-05, -1.69945196e-07, ...,\n",
       "          2.23979805e-04,  1.20146569e-05, -5.51804587e-05],\n",
       "        [-3.36680387e-05,  2.09059479e-04, -1.21870007e-05, ...,\n",
       "          5.69494965e-04, -3.31099691e-05, -1.03232749e-04],\n",
       "        [-7.05335988e-05,  3.83212930e-04, -4.12597474e-05, ...,\n",
       "          9.66588384e-04, -1.54205743e-04, -1.14841263e-04],\n",
       "        ...,\n",
       "        [-5.29858517e-04,  7.63484801e-04, -9.29390721e-04, ...,\n",
       "          7.28630694e-04, -1.78864470e-03,  3.58998979e-04],\n",
       "        [-3.16012389e-04,  4.73022228e-04, -1.08183897e-03, ...,\n",
       "          2.70698714e-04, -1.62676442e-03,  4.81151947e-04],\n",
       "        [-2.69816286e-04,  2.47046555e-04, -1.18119805e-03, ...,\n",
       "         -1.63806879e-04, -1.59197184e-03,  6.72215887e-04]],\n",
       "\n",
       "       [[-9.43810210e-06,  7.45531070e-05, -1.69945196e-07, ...,\n",
       "          2.23979805e-04,  1.20146569e-05, -5.51804587e-05],\n",
       "        [-3.36680387e-05,  2.09059479e-04, -1.21870007e-05, ...,\n",
       "          5.69494965e-04, -3.31099691e-05, -1.03232749e-04],\n",
       "        [-9.25670684e-05,  2.32443082e-04, -7.69895269e-05, ...,\n",
       "          8.38229898e-04, -2.01972376e-04, -1.54440684e-04],\n",
       "        ...,\n",
       "        [ 3.05681780e-04,  1.71276115e-04, -6.17403479e-04, ...,\n",
       "         -5.60390588e-04, -2.60104920e-04,  1.32676400e-03],\n",
       "        [ 4.37487237e-04,  2.77930259e-04, -4.45539801e-04, ...,\n",
       "         -3.45257984e-04, -2.52446480e-04,  1.52566389e-03],\n",
       "        [ 6.69798115e-04,  2.74077873e-04, -2.99788517e-04, ...,\n",
       "         -1.46390550e-04, -3.40740167e-04,  1.38998416e-03]],\n",
       "\n",
       "       ...,\n",
       "\n",
       "       [[-9.43810210e-06,  7.45531070e-05, -1.69945196e-07, ...,\n",
       "          2.23979805e-04,  1.20146569e-05, -5.51804587e-05],\n",
       "        [-3.36680387e-05,  2.09059479e-04, -1.21870007e-05, ...,\n",
       "          5.69494965e-04, -3.31099691e-05, -1.03232749e-04],\n",
       "        [-7.05335988e-05,  3.83212930e-04, -4.12597474e-05, ...,\n",
       "          9.66588384e-04, -1.54205743e-04, -1.14841263e-04],\n",
       "        ...,\n",
       "        [-1.21823774e-04,  8.43953283e-04, -8.77066923e-04, ...,\n",
       "          7.12702458e-04, -1.69025199e-03,  1.04936922e-03],\n",
       "        [ 9.71275585e-05,  6.29340997e-04, -7.74205779e-04, ...,\n",
       "          6.54864532e-04, -1.82996632e-03,  1.13238278e-03],\n",
       "        [ 1.59524046e-04,  2.81272456e-04, -8.38556327e-04, ...,\n",
       "          5.67664334e-04, -1.78556319e-03,  1.29673292e-03]],\n",
       "\n",
       "       [[-9.43810210e-06,  7.45531070e-05, -1.69945196e-07, ...,\n",
       "          2.23979805e-04,  1.20146569e-05, -5.51804587e-05],\n",
       "        [-3.36680387e-05,  2.09059479e-04, -1.21870007e-05, ...,\n",
       "          5.69494965e-04, -3.31099691e-05, -1.03232749e-04],\n",
       "        [-7.05335988e-05,  3.83212930e-04, -4.12597474e-05, ...,\n",
       "          9.66588384e-04, -1.54205743e-04, -1.14841263e-04],\n",
       "        ...,\n",
       "        [-3.08417686e-04,  1.00370252e-03, -2.08557307e-04, ...,\n",
       "          1.81475247e-03, -1.73540669e-03,  5.50155237e-04],\n",
       "        [-2.32979546e-05,  8.25122523e-04, -6.01929496e-05, ...,\n",
       "          1.54081511e-03, -1.85671577e-03,  6.61798113e-04],\n",
       "        [ 1.80290117e-05,  4.89787606e-04,  6.08745613e-05, ...,\n",
       "          1.00449100e-03, -2.08875863e-03,  6.67288725e-04]],\n",
       "\n",
       "       [[-9.43810210e-06,  7.45531070e-05, -1.69945196e-07, ...,\n",
       "          2.23979805e-04,  1.20146569e-05, -5.51804587e-05],\n",
       "        [-3.36680387e-05,  2.09059479e-04, -1.21870007e-05, ...,\n",
       "          5.69494965e-04, -3.31099691e-05, -1.03232749e-04],\n",
       "        [-7.05335988e-05,  3.83212930e-04, -4.12597474e-05, ...,\n",
       "          9.66588384e-04, -1.54205743e-04, -1.14841263e-04],\n",
       "        ...,\n",
       "        [-4.80011047e-04, -2.65049111e-05,  9.30673777e-05, ...,\n",
       "          1.10520559e-04, -1.05194864e-03,  7.31767912e-04],\n",
       "        [-2.59219203e-04, -2.60006473e-05,  5.42590824e-05, ...,\n",
       "          1.20353914e-04, -8.30278266e-04,  6.35077595e-04],\n",
       "        [-3.00982556e-05,  3.28941787e-05, -1.48039826e-05, ...,\n",
       "          6.51888986e-05, -6.51666429e-04,  8.40027526e-04]]],\n",
       "      dtype=float32)>"
      ]
     },
     "execution_count": 16,
     "metadata": {},
     "output_type": "execute_result"
    }
   ],
   "source": [
    "# 모델의 데이터 확인\n",
    "for src_sample, tgt_sample in dataset.take(1): break\n",
    "model(src_sample)"
   ]
  },
  {
   "cell_type": "code",
   "execution_count": 17,
   "metadata": {},
   "outputs": [
    {
     "name": "stdout",
     "output_type": "stream",
     "text": [
      "Model: \"text_generator\"\n",
      "_________________________________________________________________\n",
      "Layer (type)                 Output Shape              Param #   \n",
      "=================================================================\n",
      "embedding (Embedding)        multiple                  3840256   \n",
      "_________________________________________________________________\n",
      "lstm (LSTM)                  multiple                  5246976   \n",
      "_________________________________________________________________\n",
      "lstm_1 (LSTM)                multiple                  8392704   \n",
      "_________________________________________________________________\n",
      "dense (Dense)                multiple                  15376025  \n",
      "=================================================================\n",
      "Total params: 32,855,961\n",
      "Trainable params: 32,855,961\n",
      "Non-trainable params: 0\n",
      "_________________________________________________________________\n"
     ]
    }
   ],
   "source": [
    "# 모델의 최종 출력 shape는 (256, 14, 15001)\n",
    "# 256은 batch_size, 14는 squence_length, 15001은 단어의 갯수(Dense Layer 출력 차원 수)\n",
    "\n",
    "model.summary() # sequence_length를 모르기 때문에 Output shape를 정확하게 모른다."
   ]
  },
  {
   "cell_type": "code",
   "execution_count": 18,
   "metadata": {},
   "outputs": [
    {
     "name": "stdout",
     "output_type": "stream",
     "text": [
      "Epoch 1/30\n",
      "121/121 [==============================] - 58s 477ms/step - loss: 4.3481\n",
      "Epoch 2/30\n",
      "121/121 [==============================] - 60s 494ms/step - loss: 3.6322\n",
      "Epoch 3/30\n",
      "121/121 [==============================] - 59s 487ms/step - loss: 3.4530\n",
      "Epoch 4/30\n",
      "121/121 [==============================] - 60s 492ms/step - loss: 3.3544\n",
      "Epoch 5/30\n",
      "121/121 [==============================] - 59s 489ms/step - loss: 3.3075\n",
      "Epoch 6/30\n",
      "121/121 [==============================] - 59s 491ms/step - loss: 3.2391\n",
      "Epoch 7/30\n",
      "121/121 [==============================] - 59s 490ms/step - loss: 3.1818\n",
      "Epoch 8/30\n",
      "121/121 [==============================] - 59s 491ms/step - loss: 3.1414\n",
      "Epoch 9/30\n",
      "121/121 [==============================] - 60s 493ms/step - loss: 3.1038\n",
      "Epoch 10/30\n",
      "121/121 [==============================] - 59s 491ms/step - loss: 3.0667\n",
      "Epoch 11/30\n",
      "121/121 [==============================] - 59s 492ms/step - loss: 3.0326\n",
      "Epoch 12/30\n",
      "121/121 [==============================] - 60s 494ms/step - loss: 3.0005\n",
      "Epoch 13/30\n",
      "121/121 [==============================] - 60s 493ms/step - loss: 2.9696\n",
      "Epoch 14/30\n",
      "121/121 [==============================] - 60s 493ms/step - loss: 2.9405\n",
      "Epoch 15/30\n",
      "121/121 [==============================] - 60s 494ms/step - loss: 2.9134\n",
      "Epoch 16/30\n",
      "121/121 [==============================] - 60s 494ms/step - loss: 2.8866\n",
      "Epoch 17/30\n",
      "121/121 [==============================] - 60s 492ms/step - loss: 2.8602\n",
      "Epoch 18/30\n",
      "121/121 [==============================] - 60s 493ms/step - loss: 2.8361\n",
      "Epoch 19/30\n",
      "121/121 [==============================] - 60s 494ms/step - loss: 2.8112\n",
      "Epoch 20/30\n",
      "121/121 [==============================] - 60s 496ms/step - loss: 2.7871\n",
      "Epoch 21/30\n",
      "121/121 [==============================] - 60s 493ms/step - loss: 2.7638\n",
      "Epoch 22/30\n",
      "121/121 [==============================] - 60s 497ms/step - loss: 2.7397\n",
      "Epoch 23/30\n",
      "121/121 [==============================] - 60s 492ms/step - loss: 2.7182\n",
      "Epoch 24/30\n",
      "121/121 [==============================] - 60s 493ms/step - loss: 2.6927\n",
      "Epoch 25/30\n",
      "121/121 [==============================] - 60s 496ms/step - loss: 2.6709\n",
      "Epoch 26/30\n",
      "121/121 [==============================] - 59s 491ms/step - loss: 2.6486\n",
      "Epoch 27/30\n",
      "121/121 [==============================] - 59s 490ms/step - loss: 2.6251\n",
      "Epoch 28/30\n",
      "121/121 [==============================] - 60s 494ms/step - loss: 2.6018\n",
      "Epoch 29/30\n",
      "121/121 [==============================] - 59s 491ms/step - loss: 2.5811\n",
      "Epoch 30/30\n",
      "121/121 [==============================] - 59s 491ms/step - loss: 2.5583\n"
     ]
    },
    {
     "data": {
      "text/plain": [
       "<tensorflow.python.keras.callbacks.History at 0x7f9704433190>"
      ]
     },
     "execution_count": 18,
     "metadata": {},
     "output_type": "execute_result"
    }
   ],
   "source": [
    "# 모델 학습\n",
    "optimizer = tf.keras.optimizers.Adam()\n",
    "loss = tf.keras.losses.SparseCategoricalCrossentropy(\n",
    "    from_logits=True,\n",
    "    reduction='none'\n",
    ")\n",
    "\n",
    "model.compile(loss=loss, optimizer=optimizer)\n",
    "model.fit(dataset, epochs=30)"
   ]
  },
  {
   "cell_type": "code",
   "execution_count": 19,
   "metadata": {},
   "outputs": [],
   "source": [
    "def generate_text(model, tokenizer, init_sentence=\"<start>\", max_len=20):\n",
    "    # 테스트를 위해서 입력받은 init_sentence도 텐서로 변환\n",
    "    test_input = tokenizer.texts_to_sequences([init_sentence])\n",
    "    test_tensor = tf.convert_to_tensor(test_input, dtype=tf.int64)\n",
    "    end_token = tokenizer.word_index[\"<end>\"]\n",
    "\n",
    "    # 단어를 하나씩 생성\n",
    "    while True:\n",
    "        predict = model(test_tensor)  # 입력받은 문장\n",
    "        predict_word = tf.argmax(tf.nn.softmax(predict, axis=-1), axis=-1)[:, -1]   # 예측한 단어가 새로 생성된 단어 \n",
    "\n",
    "        # 우리 모델이 새롭게 예측한 단어를 입력 문장의 뒤에 붙이기\n",
    "        test_tensor = tf.concat([test_tensor, tf.expand_dims(predict_word, axis=0)], axis=-1)\n",
    "\n",
    "        # 우리 모델이 <end>를 예측했거나, max_len에 도달하지 않았다면  while 루프를 또 돌면서 다음 단어를 예측\n",
    "        if predict_word.numpy()[0] == end_token: break\n",
    "        if test_tensor.shape[1] >= max_len: break\n",
    "\n",
    "    generated = \"\"\n",
    "    # 생성된 tensor 안에 있는 word index를 tokenizer.index_word 사전을 통해 실제 단어로 하나씩 변환\n",
    "    for word_index in test_tensor[0].numpy():\n",
    "        generated += tokenizer.index_word[word_index] + \" \"\n",
    "\n",
    "    return generated   # 최종 생성된 자연어 문장"
   ]
  },
  {
   "cell_type": "code",
   "execution_count": 20,
   "metadata": {},
   "outputs": [
    {
     "data": {
      "text/plain": [
       "'<start> i love you to be a shot , i m not a man <end> '"
      ]
     },
     "execution_count": 20,
     "metadata": {},
     "output_type": "execute_result"
    }
   ],
   "source": [
    "generate_text(model, tokenizer, init_sentence=\"<start> i love\", max_len=20)"
   ]
  },
  {
   "cell_type": "code",
   "execution_count": null,
   "metadata": {},
   "outputs": [],
   "source": []
  }
 ],
 "metadata": {
  "kernelspec": {
   "display_name": "aiffel",
   "language": "python",
   "name": "aiffel"
  },
  "language_info": {
   "codemirror_mode": {
    "name": "ipython",
    "version": 3
   },
   "file_extension": ".py",
   "mimetype": "text/x-python",
   "name": "python",
   "nbconvert_exporter": "python",
   "pygments_lexer": "ipython3",
   "version": "3.7.9"
  }
 },
 "nbformat": 4,
 "nbformat_minor": 4
}
