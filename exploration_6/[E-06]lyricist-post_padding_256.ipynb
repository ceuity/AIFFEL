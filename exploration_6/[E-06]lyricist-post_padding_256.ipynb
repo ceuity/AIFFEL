{
 "cells": [
  {
   "cell_type": "code",
   "execution_count": 154,
   "metadata": {},
   "outputs": [
    {
     "name": "stdout",
     "output_type": "stream",
     "text": [
      "데이터 크기: 187088\n",
      "Examples:\n",
      " ['\"Don\\'t worry about a thing,', \"'Cause every little thing gonna be all right.\", 'Singin\\': \"Don\\'t worry about a thing,']\n"
     ]
    }
   ],
   "source": [
    "#데이터 불러오기\n",
    "import glob\n",
    "import os\n",
    "import re\n",
    "import numpy as np\n",
    "import tensorflow as tf\n",
    "from sklearn.model_selection import train_test_split\n",
    "\n",
    "txt_file_path = os.getenv('HOME')+'/aiffel/lyricist/data/lyrics/*'\n",
    "\n",
    "txt_list = glob.glob(txt_file_path)\n",
    "\n",
    "raw_corpus = []\n",
    "\n",
    "# 여러개의 txt 파일을 모두 읽어서 raw_corpus 에 담습니다.\n",
    "for txt_file in txt_list:\n",
    "    with open(txt_file, \"r\") as f:\n",
    "        raw = f.read().splitlines()\n",
    "        raw_corpus.extend(raw)\n",
    "\n",
    "print(\"데이터 크기:\", len(raw_corpus))\n",
    "print(\"Examples:\\n\", raw_corpus[:3])"
   ]
  },
  {
   "cell_type": "code",
   "execution_count": 155,
   "metadata": {},
   "outputs": [
    {
     "name": "stdout",
     "output_type": "stream",
     "text": [
      "\"Don't worry about a thing,\n",
      "'Cause every little thing gonna be all right.\n",
      "Singin': \"Don't worry about a thing,\n",
      "'Cause every little thing gonna be all right!\" Rise up this mornin',\n",
      "Smiled with the risin' sun,\n",
      "Three little birds\n",
      "Perch by my doorstep\n",
      "Singin' sweet songs\n",
      "Of melodies pure and true,\n",
      "Sayin', (\"This is my message to you-ou-ou:\") Singin': \"Don't worry 'bout a thing,\n"
     ]
    }
   ],
   "source": [
    "# 문장 indexing\n",
    "for idx, sentence in enumerate(raw_corpus):\n",
    "    if len(sentence) == 0: continue   # 길이가 0인 문장은 스킵\n",
    "\n",
    "    if idx > 9: break\n",
    "        \n",
    "    print(sentence)"
   ]
  },
  {
   "cell_type": "code",
   "execution_count": 156,
   "metadata": {},
   "outputs": [],
   "source": [
    "# 문장 전처리 함수\n",
    "def preprocess_sentence(sentence):\n",
    "    sentence = sentence.lower().strip() # 소문자로 바꾸고 양쪽 공백을 삭제\n",
    "\n",
    "    # 정규식을 이용하여 문장 처리\n",
    "    sentence = re.sub(r\"([?.!,¿])\", r\" \\1 \", sentence) # 패턴의 특수문자를 만나면 특수문자 양쪽에 공백을 추가\n",
    "    sentence = re.sub(r'[\" \"]+', \" \", sentence) # 공백 패턴을 만나면 스페이스 1개로 치환\n",
    "    sentence = re.sub(r\"[^a-zA-Z?.!,¿]+\", \" \", sentence) # a-zA-Z?.!,¿ 패턴을 제외한 모든 문자(공백문자까지도)를 스페이스 1개로 치환\n",
    "\n",
    "    sentence = sentence.strip()\n",
    "\n",
    "    sentence = '<start> ' + sentence + ' <end>'\n",
    "    \n",
    "    return sentence"
   ]
  },
  {
   "cell_type": "code",
   "execution_count": 161,
   "metadata": {},
   "outputs": [
    {
     "name": "stdout",
     "output_type": "stream",
     "text": [
      "['<start> don t worry about a thing , <end>', '<start> cause every little thing gonna be all right . <end>']\n",
      "168357\n"
     ]
    }
   ],
   "source": [
    "corpus = []\n",
    "\n",
    "# 모든 문장에 전처리 함수 적용\n",
    "for sentence in raw_corpus:\n",
    "    if len(sentence) == 0:\n",
    "        continue\n",
    "    if sentence[-1] == \":\":\n",
    "        continue\n",
    "    if len(sentence.split()) > 15:\n",
    "        continue\n",
    "          \n",
    "    corpus.append(preprocess_sentence(sentence))\n",
    "        \n",
    "print(corpus[:2])\n",
    "print(len(corpus))"
   ]
  },
  {
   "cell_type": "code",
   "execution_count": 162,
   "metadata": {},
   "outputs": [
    {
     "name": "stdout",
     "output_type": "stream",
     "text": [
      "['<start>', 'don', 't', 'worry', 'about', 'a', 'thing', ',', '<end>']\n"
     ]
    },
    {
     "data": {
      "text/plain": [
       "9"
      ]
     },
     "execution_count": 162,
     "metadata": {},
     "output_type": "execute_result"
    }
   ],
   "source": [
    "print(corpus[0].split())\n",
    "len(corpus[0].split())"
   ]
  },
  {
   "cell_type": "code",
   "execution_count": 163,
   "metadata": {},
   "outputs": [
    {
     "name": "stdout",
     "output_type": "stream",
     "text": [
      "[[   2   35   15 ...    0    0    0]\n",
      " [   2   66  129 ...    0    0    0]\n",
      " [   2 1567   35 ...    0    0    0]\n",
      " ...\n",
      " [   2   43  898 ...    0    0    0]\n",
      " [   2   43   67 ...    0    0    0]\n",
      " [   2    8   82 ...    0    0    0]] <keras_preprocessing.text.Tokenizer object at 0x7ff374b7ecd0>\n"
     ]
    }
   ],
   "source": [
    "def tokenize(corpus):\n",
    "    # 텐서플로우에서 제공하는 Tokenizer 패키지를 생성\n",
    "    tokenizer = tf.keras.preprocessing.text.Tokenizer(\n",
    "        num_words=15000,  # 전체 단어의 개수 \n",
    "        filters=' ',      # 전처리 로직\n",
    "        oov_token=\"<unk>\" # out-of-vocabulary, 사전에 없는 단어\n",
    "    )\n",
    "    tokenizer.fit_on_texts(corpus) # 우리가 구축한 corpus로부터 Tokenizer가 사전을 자동구축\n",
    "\n",
    "    # tokenizer를 활용하여 모델에 입력할 데이터셋을 구축\n",
    "    tensor = tokenizer.texts_to_sequences(corpus) # tokenizer는 구축한 사전으로부터 corpus를 해석해 Tensor로 변환\n",
    "\n",
    "    # 입력 데이터의 시퀀스 길이를 일정하게 맞추기 위한 padding 메소드\n",
    "    # maxlen의 디폴트값은 None입니다. 이 경우 corpus의 가장 긴 문장을 기준으로 시퀀스 길이가 맞춰진다\n",
    "    tensor = tf.keras.preprocessing.sequence.pad_sequences(tensor,\n",
    "                                                           padding='post',\n",
    "                                                           maxlen=15)\n",
    "\n",
    "    print(tensor,tokenizer)\n",
    "    return tensor, tokenizer\n",
    "\n",
    "tensor, tokenizer = tokenize(corpus)"
   ]
  },
  {
   "cell_type": "code",
   "execution_count": 164,
   "metadata": {},
   "outputs": [
    {
     "name": "stdout",
     "output_type": "stream",
     "text": [
      "15\n"
     ]
    }
   ],
   "source": [
    "print(len(tensor[10,:])) # 생성된 텐서 데이터 확인"
   ]
  },
  {
   "cell_type": "code",
   "execution_count": 165,
   "metadata": {},
   "outputs": [
    {
     "name": "stdout",
     "output_type": "stream",
     "text": [
      "1 : <unk>\n",
      "2 : <start>\n",
      "3 : <end>\n",
      "4 : ,\n",
      "5 : i\n",
      "6 : the\n",
      "7 : you\n",
      "8 : and\n",
      "9 : a\n",
      "10 : to\n",
      "11 : it\n",
      "12 : me\n",
      "13 : my\n",
      "14 : in\n",
      "15 : t\n",
      "16 : s\n",
      "17 : that\n",
      "18 : on\n",
      "19 : of\n",
      "20 : .\n"
     ]
    }
   ],
   "source": [
    "# 단어 사전의 index\n",
    "for idx in tokenizer.index_word:\n",
    "    print(idx, \":\", tokenizer.index_word[idx])\n",
    "\n",
    "    if idx >= 20: break"
   ]
  },
  {
   "cell_type": "code",
   "execution_count": 166,
   "metadata": {},
   "outputs": [],
   "source": [
    "# 문장 생성\n",
    "src_input = tensor[:, :-1] # tensor에서 마지막 토큰을 잘라내서 소스 문장을 생성. 마지막 토큰은 <end>가 아니라 <pad>일 가능성이 높다.\n",
    "tgt_input = tensor[:, 1:]  # tensor에서 <start>를 잘라내서 타겟 문장을 생성."
   ]
  },
  {
   "cell_type": "code",
   "execution_count": 167,
   "metadata": {},
   "outputs": [
    {
     "name": "stdout",
     "output_type": "stream",
     "text": [
      "[  2  35  15 696 112   9 184   4   3   0   0   0   0   0]\n",
      "[ 35  15 696 112   9 184   4   3   0   0   0   0   0   0]\n"
     ]
    }
   ],
   "source": [
    "# 생성된 문장 확인\n",
    "print(src_input[0])\n",
    "print(tgt_input[0])"
   ]
  },
  {
   "cell_type": "code",
   "execution_count": 168,
   "metadata": {},
   "outputs": [],
   "source": [
    "enc_train, enc_val, dec_train, dec_val = train_test_split(src_input,\n",
    "                                                          tgt_input,\n",
    "                                                          test_size=0.2,\n",
    "                                                          shuffle=True)"
   ]
  },
  {
   "cell_type": "code",
   "execution_count": 169,
   "metadata": {},
   "outputs": [
    {
     "name": "stdout",
     "output_type": "stream",
     "text": [
      "Source Train: (134685, 14)\n",
      "Target Train: (134685, 14)\n"
     ]
    }
   ],
   "source": [
    "# 분리된 데이터 확인\n",
    "print(\"Source Train:\", enc_train.shape)\n",
    "print(\"Target Train:\", dec_train.shape)"
   ]
  },
  {
   "cell_type": "code",
   "execution_count": 170,
   "metadata": {},
   "outputs": [
    {
     "data": {
      "text/plain": [
       "<BatchDataset shapes: ((256, 14), (256, 14)), types: (tf.int32, tf.int32)>"
      ]
     },
     "execution_count": 170,
     "metadata": {},
     "output_type": "execute_result"
    }
   ],
   "source": [
    "# 데이터셋 구축\n",
    "BUFFER_SIZE = len(enc_train)\n",
    "BATCH_SIZE = 256\n",
    "steps_per_epoch = len(enc_train) // BATCH_SIZE\n",
    "\n",
    "VOCAB_SIZE = tokenizer.num_words + 1    # 0:<pad>를 포함하여 dictionary 갯수 + 1\n",
    "\n",
    "dataset = tf.data.Dataset.from_tensor_slices((enc_train, dec_train)).shuffle(BUFFER_SIZE)\n",
    "dataset = dataset.batch(BATCH_SIZE, drop_remainder=True)\n",
    "dataset"
   ]
  },
  {
   "cell_type": "code",
   "execution_count": 171,
   "metadata": {},
   "outputs": [],
   "source": [
    "# 모델 생성 함수\n",
    "class TextGenerator(tf.keras.Model):\n",
    "    def __init__(self, vocab_size, embedding_size, hidden_size):\n",
    "        super(TextGenerator, self).__init__()\n",
    "        \n",
    "        self.embedding = tf.keras.layers.Embedding(vocab_size, embedding_size)\n",
    "        self.rnn_1 = tf.keras.layers.LSTM(hidden_size, return_sequences=True)\n",
    "        self.rnn_2 = tf.keras.layers.LSTM(hidden_size, return_sequences=True)\n",
    "        self.linear = tf.keras.layers.Dense(vocab_size)\n",
    "        \n",
    "    def call(self, x):\n",
    "        out = self.embedding(x)\n",
    "        out = self.rnn_1(out)\n",
    "        out = self.rnn_2(out)\n",
    "        out = self.linear(out)\n",
    "        \n",
    "        return out "
   ]
  },
  {
   "cell_type": "code",
   "execution_count": 172,
   "metadata": {},
   "outputs": [],
   "source": [
    "# 모델 생성\n",
    "embedding_size = 256 # 워드 벡터의 차원 수\n",
    "hidden_size = 1024 # LSTM Layer의 hidden 차원 수\n",
    "model = TextGenerator(tokenizer.num_words + 1, embedding_size , hidden_size)"
   ]
  },
  {
   "cell_type": "code",
   "execution_count": 174,
   "metadata": {},
   "outputs": [
    {
     "data": {
      "text/plain": [
       "<tf.Tensor: shape=(256, 14, 15001), dtype=float32, numpy=\n",
       "array([[[ 6.98837994e-06,  1.80401272e-04, -4.27207888e-05, ...,\n",
       "          1.38830161e-04,  1.36960743e-05, -2.08365673e-04],\n",
       "        [-2.09590980e-05,  1.30864646e-04,  8.24349918e-05, ...,\n",
       "          6.55024487e-05,  2.73397436e-05, -8.80119915e-05],\n",
       "        [ 2.61365385e-05,  1.10728673e-04,  1.33488298e-04, ...,\n",
       "         -1.53668207e-05,  4.48321152e-05, -5.93452824e-05],\n",
       "        ...,\n",
       "        [ 4.98373236e-04, -4.22078301e-05,  3.54924152e-04, ...,\n",
       "         -2.87253933e-04, -1.16970887e-05,  4.78935079e-04],\n",
       "        [ 8.51198973e-04, -2.94684287e-04,  7.50440304e-05, ...,\n",
       "         -2.98733619e-04, -1.26535306e-04,  4.74087603e-04],\n",
       "        [ 1.21599715e-03, -5.37566433e-04, -3.75157251e-04, ...,\n",
       "         -2.11391904e-04, -2.74283550e-04,  4.83275275e-04]],\n",
       "\n",
       "       [[ 6.98837994e-06,  1.80401272e-04, -4.27207888e-05, ...,\n",
       "          1.38830161e-04,  1.36960743e-05, -2.08365673e-04],\n",
       "        [ 6.12107251e-05,  2.61509325e-04,  1.24464801e-04, ...,\n",
       "          1.38056610e-04,  3.95641764e-05, -1.61067801e-04],\n",
       "        [ 1.87408848e-04,  1.98565671e-04,  1.73378503e-04, ...,\n",
       "          1.51939035e-04, -7.09988817e-05,  1.73096341e-05],\n",
       "        ...,\n",
       "        [ 2.56411848e-03, -9.21880943e-04, -1.90812186e-03, ...,\n",
       "          1.89236729e-04, -1.06132613e-03,  5.63748763e-04],\n",
       "        [ 2.80292914e-03, -9.62886494e-04, -2.08621728e-03, ...,\n",
       "          3.64240113e-04, -1.17547985e-03,  6.41800754e-04],\n",
       "        [ 3.02025699e-03, -1.00178726e-03, -2.19912059e-03, ...,\n",
       "          5.24212781e-04, -1.28176797e-03,  7.06839724e-04]],\n",
       "\n",
       "       [[ 6.98837994e-06,  1.80401272e-04, -4.27207888e-05, ...,\n",
       "          1.38830161e-04,  1.36960743e-05, -2.08365673e-04],\n",
       "        [ 8.02032446e-05,  5.21641050e-04,  1.19711156e-04, ...,\n",
       "          1.27755236e-04,  2.87389776e-05, -2.59963272e-04],\n",
       "        [ 7.97915782e-05,  6.81985752e-04,  1.93265878e-04, ...,\n",
       "         -6.76640702e-05,  4.99873895e-05, -3.05747439e-04],\n",
       "        ...,\n",
       "        [ 1.08260871e-03,  3.10957606e-04,  6.83516439e-04, ...,\n",
       "         -8.73022887e-04,  5.65274968e-04,  8.35652918e-06],\n",
       "        [ 1.21645920e-03,  1.31712892e-04,  3.83289822e-04, ...,\n",
       "         -9.63177707e-04,  5.12188708e-04,  7.38828530e-05],\n",
       "        [ 1.40070985e-03, -5.54106082e-05, -9.39861129e-05, ...,\n",
       "         -9.55255644e-04,  3.99960583e-04,  1.87046331e-04]],\n",
       "\n",
       "       ...,\n",
       "\n",
       "       [[ 6.98837994e-06,  1.80401272e-04, -4.27207888e-05, ...,\n",
       "          1.38830161e-04,  1.36960743e-05, -2.08365673e-04],\n",
       "        [ 5.00334281e-05,  2.78386928e-04, -3.46681918e-05, ...,\n",
       "          1.35321738e-04,  4.31531116e-05, -3.10080708e-04],\n",
       "        [ 2.05458244e-04,  2.20072790e-04, -6.14857854e-05, ...,\n",
       "          1.35731301e-04, -1.03954706e-04, -1.56116366e-04],\n",
       "        ...,\n",
       "        [ 9.90317669e-04, -1.72968823e-04, -2.36698356e-03, ...,\n",
       "          4.86295321e-05, -2.73118407e-04,  5.82147273e-04],\n",
       "        [ 1.35456119e-03, -3.04243789e-04, -2.59954110e-03, ...,\n",
       "          1.53038447e-04, -4.01694066e-04,  7.54489156e-04],\n",
       "        [ 1.72591675e-03, -4.28592786e-04, -2.73975381e-03, ...,\n",
       "          2.83894537e-04, -5.43197850e-04,  8.95186677e-04]],\n",
       "\n",
       "       [[-1.13266193e-04,  1.53776709e-05,  2.41154412e-04, ...,\n",
       "          8.64525864e-05, -3.81194914e-05,  3.12270931e-05],\n",
       "        [-2.29538418e-04,  3.11751151e-04,  6.28663227e-04, ...,\n",
       "          1.09181245e-04, -1.00808502e-04,  7.25010032e-05],\n",
       "        [-3.78806086e-04,  4.75746026e-04,  1.01653510e-03, ...,\n",
       "          2.04397133e-04, -1.42913399e-04,  1.07964297e-04],\n",
       "        ...,\n",
       "        [-1.08633679e-03,  1.44700907e-05,  1.49135944e-03, ...,\n",
       "          3.65250657e-04, -8.32897495e-05,  7.99804635e-04],\n",
       "        [-1.18166965e-03,  5.16184555e-05,  1.00812665e-03, ...,\n",
       "          2.34980762e-04, -1.09150817e-04,  9.88325570e-04],\n",
       "        [-1.38833362e-03, -1.54798647e-04,  7.57574686e-04, ...,\n",
       "          2.30251258e-04,  8.37162315e-06,  1.56195706e-03]],\n",
       "\n",
       "       [[ 9.59446916e-05, -2.08431902e-05,  1.89875209e-04, ...,\n",
       "         -4.79729679e-05, -1.44182588e-04, -9.11746029e-05],\n",
       "        [ 5.42938506e-05, -3.88896624e-05,  5.10487938e-04, ...,\n",
       "         -1.39826752e-05, -2.63798109e-04, -4.71197382e-05],\n",
       "        [ 6.78186188e-05, -1.16891488e-05,  3.30955256e-04, ...,\n",
       "          1.38411080e-04, -3.21974192e-04,  7.27609658e-05],\n",
       "        ...,\n",
       "        [-1.28039159e-03,  1.30511064e-04, -1.15420658e-03, ...,\n",
       "          4.27675433e-04,  4.95555287e-04,  2.91212957e-04],\n",
       "        [-1.22111128e-03,  1.76830799e-04, -9.10768635e-04, ...,\n",
       "          1.98466601e-04,  4.76252811e-04,  2.66724004e-04],\n",
       "        [-8.55437189e-04,  2.98088653e-05, -8.35814513e-04, ...,\n",
       "         -8.52863741e-05,  3.60559963e-04,  1.08712062e-04]]],\n",
       "      dtype=float32)>"
      ]
     },
     "execution_count": 174,
     "metadata": {},
     "output_type": "execute_result"
    }
   ],
   "source": [
    "# 모델의 데이터 확인\n",
    "for src_sample, tgt_sample in dataset.take(1): break\n",
    "model(src_sample)"
   ]
  },
  {
   "cell_type": "code",
   "execution_count": 175,
   "metadata": {},
   "outputs": [
    {
     "name": "stdout",
     "output_type": "stream",
     "text": [
      "Model: \"text_generator\"\n",
      "_________________________________________________________________\n",
      "Layer (type)                 Output Shape              Param #   \n",
      "=================================================================\n",
      "embedding (Embedding)        multiple                  3840256   \n",
      "_________________________________________________________________\n",
      "lstm (LSTM)                  multiple                  5246976   \n",
      "_________________________________________________________________\n",
      "lstm_1 (LSTM)                multiple                  8392704   \n",
      "_________________________________________________________________\n",
      "dense (Dense)                multiple                  15376025  \n",
      "=================================================================\n",
      "Total params: 32,855,961\n",
      "Trainable params: 32,855,961\n",
      "Non-trainable params: 0\n",
      "_________________________________________________________________\n"
     ]
    }
   ],
   "source": [
    "# 모델의 최종 출력 shape는 (256, 14, 15001)\n",
    "# 256은 batch_size, 14는 squence_length, 15001은 단어의 갯수(Dense Layer 출력 차원 수)\n",
    "\n",
    "model.summary() # sequence_length를 모르기 때문에 Output shape를 정확하게 모른다."
   ]
  },
  {
   "cell_type": "code",
   "execution_count": 176,
   "metadata": {},
   "outputs": [
    {
     "name": "stdout",
     "output_type": "stream",
     "text": [
      "Epoch 1/30\n",
      "526/526 [==============================] - 71s 135ms/step - loss: 3.6614\n",
      "Epoch 2/30\n",
      "526/526 [==============================] - 73s 138ms/step - loss: 3.1736\n",
      "Epoch 3/30\n",
      "526/526 [==============================] - 73s 139ms/step - loss: 2.9941\n",
      "Epoch 4/30\n",
      "526/526 [==============================] - 73s 139ms/step - loss: 2.8543\n",
      "Epoch 5/30\n",
      "526/526 [==============================] - 73s 140ms/step - loss: 2.7380\n",
      "Epoch 6/30\n",
      "526/526 [==============================] - 73s 139ms/step - loss: 2.6328\n",
      "Epoch 7/30\n",
      "526/526 [==============================] - 75s 143ms/step - loss: 2.5359\n",
      "Epoch 8/30\n",
      "526/526 [==============================] - 75s 143ms/step - loss: 2.4445\n",
      "Epoch 9/30\n",
      "526/526 [==============================] - 73s 139ms/step - loss: 2.3582\n",
      "Epoch 10/30\n",
      "526/526 [==============================] - 73s 140ms/step - loss: 2.2760\n",
      "Epoch 11/30\n",
      "526/526 [==============================] - 73s 139ms/step - loss: 2.1974\n",
      "Epoch 12/30\n",
      "526/526 [==============================] - 73s 139ms/step - loss: 2.1228\n",
      "Epoch 13/30\n",
      "526/526 [==============================] - 74s 141ms/step - loss: 2.0511\n",
      "Epoch 14/30\n",
      "526/526 [==============================] - 73s 140ms/step - loss: 1.9826\n",
      "Epoch 15/30\n",
      "526/526 [==============================] - 74s 142ms/step - loss: 1.9164\n",
      "Epoch 16/30\n",
      "526/526 [==============================] - 74s 140ms/step - loss: 1.8529\n",
      "Epoch 17/30\n",
      "526/526 [==============================] - 74s 140ms/step - loss: 1.7913\n",
      "Epoch 18/30\n",
      "526/526 [==============================] - 74s 140ms/step - loss: 1.7317\n",
      "Epoch 19/30\n",
      "526/526 [==============================] - 74s 140ms/step - loss: 1.6738\n",
      "Epoch 20/30\n",
      "526/526 [==============================] - 72s 138ms/step - loss: 1.6178\n",
      "Epoch 21/30\n",
      "526/526 [==============================] - 72s 138ms/step - loss: 1.5643\n",
      "Epoch 22/30\n",
      "526/526 [==============================] - 72s 138ms/step - loss: 1.5120\n",
      "Epoch 23/30\n",
      "526/526 [==============================] - 73s 138ms/step - loss: 1.4624\n",
      "Epoch 24/30\n",
      "526/526 [==============================] - 73s 138ms/step - loss: 1.4150\n",
      "Epoch 25/30\n",
      "526/526 [==============================] - 72s 138ms/step - loss: 1.3702\n",
      "Epoch 26/30\n",
      "526/526 [==============================] - 72s 138ms/step - loss: 1.3270\n",
      "Epoch 27/30\n",
      "526/526 [==============================] - 73s 138ms/step - loss: 1.2863\n",
      "Epoch 28/30\n",
      "526/526 [==============================] - 72s 138ms/step - loss: 1.2475\n",
      "Epoch 29/30\n",
      "526/526 [==============================] - 72s 138ms/step - loss: 1.2111\n",
      "Epoch 30/30\n",
      "526/526 [==============================] - 72s 138ms/step - loss: 1.1774\n"
     ]
    },
    {
     "data": {
      "text/plain": [
       "<tensorflow.python.keras.callbacks.History at 0x7ff37a043050>"
      ]
     },
     "execution_count": 176,
     "metadata": {},
     "output_type": "execute_result"
    }
   ],
   "source": [
    "# 모델 학습\n",
    "optimizer = tf.keras.optimizers.Adam()\n",
    "loss = tf.keras.losses.SparseCategoricalCrossentropy(\n",
    "    from_logits=True,\n",
    "    reduction='none'\n",
    ")\n",
    "\n",
    "model.compile(loss=loss, optimizer=optimizer)\n",
    "model.fit(dataset, epochs=30)"
   ]
  },
  {
   "cell_type": "code",
   "execution_count": 178,
   "metadata": {},
   "outputs": [],
   "source": [
    "def generate_text(model, tokenizer, init_sentence=\"<start>\", max_len=20):\n",
    "    # 테스트를 위해서 입력받은 init_sentence도 텐서로 변환\n",
    "    test_input = tokenizer.texts_to_sequences([init_sentence])\n",
    "    test_tensor = tf.convert_to_tensor(test_input, dtype=tf.int64)\n",
    "    end_token = tokenizer.word_index[\"<end>\"]\n",
    "\n",
    "    # 단어를 하나씩 생성\n",
    "    while True:\n",
    "        predict = model(test_tensor)  # 입력받은 문장\n",
    "        predict_word = tf.argmax(tf.nn.softmax(predict, axis=-1), axis=-1)[:, -1]   # 예측한 단어가 새로 생성된 단어 \n",
    "\n",
    "        # 우리 모델이 새롭게 예측한 단어를 입력 문장의 뒤에 붙이기\n",
    "        test_tensor = tf.concat([test_tensor, tf.expand_dims(predict_word, axis=0)], axis=-1)\n",
    "\n",
    "        # 우리 모델이 <end>를 예측했거나, max_len에 도달하지 않았다면  while 루프를 또 돌면서 다음 단어를 예측\n",
    "        if predict_word.numpy()[0] == end_token: break\n",
    "        if test_tensor.shape[1] >= max_len: break\n",
    "\n",
    "    generated = \"\"\n",
    "    # 생성된 tensor 안에 있는 word index를 tokenizer.index_word 사전을 통해 실제 단어로 하나씩 변환\n",
    "    for word_index in test_tensor[0].numpy():\n",
    "        generated += tokenizer.index_word[word_index] + \" \"\n",
    "\n",
    "    return generated   # 최종 생성된 자연어 문장"
   ]
  },
  {
   "cell_type": "code",
   "execution_count": 180,
   "metadata": {},
   "outputs": [
    {
     "data": {
      "text/plain": [
       "'<start> i love you , i love you <end> '"
      ]
     },
     "execution_count": 180,
     "metadata": {},
     "output_type": "execute_result"
    }
   ],
   "source": [
    "generate_text(model, tokenizer, init_sentence=\"<start> i love\", max_len=20)"
   ]
  },
  {
   "cell_type": "code",
   "execution_count": null,
   "metadata": {},
   "outputs": [],
   "source": []
  }
 ],
 "metadata": {
  "kernelspec": {
   "display_name": "aiffel",
   "language": "python",
   "name": "aiffel"
  },
  "language_info": {
   "codemirror_mode": {
    "name": "ipython",
    "version": 3
   },
   "file_extension": ".py",
   "mimetype": "text/x-python",
   "name": "python",
   "nbconvert_exporter": "python",
   "pygments_lexer": "ipython3",
   "version": "3.7.9"
  }
 },
 "nbformat": 4,
 "nbformat_minor": 4
}
