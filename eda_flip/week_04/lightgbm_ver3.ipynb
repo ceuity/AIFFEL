{
 "cells": [
  {
   "cell_type": "code",
   "execution_count": 1,
   "metadata": {},
   "outputs": [],
   "source": [
    "import os\n",
    "import warnings\n",
    "import random\n",
    "import pickle\n",
    "import pandas as pd\n",
    "import numpy as np\n",
    "import tensorflow as tf\n",
    "import seaborn as sns\n",
    "import matplotlib.pyplot as plt\n",
    "import tqdm\n",
    "\n",
    "import lightgbm as lgb\n",
    "from sklearn.model_selection import StratifiedKFold\n",
    "from sklearn.preprocessing import OneHotEncoder\n",
    "from sklearn.model_selection import train_test_split\n",
    "from sklearn.metrics import log_loss\n",
    "\n",
    "import optuna\n",
    "\n",
    "warnings.filterwarnings('ignore')"
   ]
  },
  {
   "cell_type": "code",
   "execution_count": 2,
   "metadata": {},
   "outputs": [],
   "source": [
    "random.seed(42)\n",
    "random_state = 42\n",
    "tf.random.set_seed(42)"
   ]
  },
  {
   "cell_type": "code",
   "execution_count": 3,
   "metadata": {},
   "outputs": [],
   "source": [
    "train_path = ('./data/train.csv')\n",
    "test_path = ('./data/test.csv')\n",
    "submission_path = ('./data/sample_submission.csv')"
   ]
  },
  {
   "cell_type": "code",
   "execution_count": 4,
   "metadata": {},
   "outputs": [],
   "source": [
    "train = pd.read_csv(train_path)\n",
    "test = pd.read_csv(test_path)\n",
    "submission = pd.read_csv(submission_path)"
   ]
  },
  {
   "cell_type": "code",
   "execution_count": 5,
   "metadata": {},
   "outputs": [
    {
     "data": {
      "text/html": [
       "<div>\n",
       "<style scoped>\n",
       "    .dataframe tbody tr th:only-of-type {\n",
       "        vertical-align: middle;\n",
       "    }\n",
       "\n",
       "    .dataframe tbody tr th {\n",
       "        vertical-align: top;\n",
       "    }\n",
       "\n",
       "    .dataframe thead th {\n",
       "        text-align: right;\n",
       "    }\n",
       "</style>\n",
       "<table border=\"1\" class=\"dataframe\">\n",
       "  <thead>\n",
       "    <tr style=\"text-align: right;\">\n",
       "      <th></th>\n",
       "      <th>index</th>\n",
       "      <th>gender</th>\n",
       "      <th>car</th>\n",
       "      <th>reality</th>\n",
       "      <th>child_num</th>\n",
       "      <th>income_total</th>\n",
       "      <th>income_type</th>\n",
       "      <th>edu_type</th>\n",
       "      <th>family_type</th>\n",
       "      <th>house_type</th>\n",
       "      <th>DAYS_BIRTH</th>\n",
       "      <th>DAYS_EMPLOYED</th>\n",
       "      <th>FLAG_MOBIL</th>\n",
       "      <th>work_phone</th>\n",
       "      <th>phone</th>\n",
       "      <th>email</th>\n",
       "      <th>occyp_type</th>\n",
       "      <th>family_size</th>\n",
       "      <th>begin_month</th>\n",
       "      <th>credit</th>\n",
       "    </tr>\n",
       "  </thead>\n",
       "  <tbody>\n",
       "    <tr>\n",
       "      <th>0</th>\n",
       "      <td>0</td>\n",
       "      <td>F</td>\n",
       "      <td>N</td>\n",
       "      <td>N</td>\n",
       "      <td>0</td>\n",
       "      <td>202500.0</td>\n",
       "      <td>Commercial associate</td>\n",
       "      <td>Higher education</td>\n",
       "      <td>Married</td>\n",
       "      <td>Municipal apartment</td>\n",
       "      <td>-13899</td>\n",
       "      <td>-4709</td>\n",
       "      <td>1</td>\n",
       "      <td>0</td>\n",
       "      <td>0</td>\n",
       "      <td>0</td>\n",
       "      <td>NaN</td>\n",
       "      <td>2.0</td>\n",
       "      <td>-6.0</td>\n",
       "      <td>1.0</td>\n",
       "    </tr>\n",
       "    <tr>\n",
       "      <th>1</th>\n",
       "      <td>1</td>\n",
       "      <td>F</td>\n",
       "      <td>N</td>\n",
       "      <td>Y</td>\n",
       "      <td>1</td>\n",
       "      <td>247500.0</td>\n",
       "      <td>Commercial associate</td>\n",
       "      <td>Secondary / secondary special</td>\n",
       "      <td>Civil marriage</td>\n",
       "      <td>House / apartment</td>\n",
       "      <td>-11380</td>\n",
       "      <td>-1540</td>\n",
       "      <td>1</td>\n",
       "      <td>0</td>\n",
       "      <td>0</td>\n",
       "      <td>1</td>\n",
       "      <td>Laborers</td>\n",
       "      <td>3.0</td>\n",
       "      <td>-5.0</td>\n",
       "      <td>1.0</td>\n",
       "    </tr>\n",
       "    <tr>\n",
       "      <th>2</th>\n",
       "      <td>2</td>\n",
       "      <td>M</td>\n",
       "      <td>Y</td>\n",
       "      <td>Y</td>\n",
       "      <td>0</td>\n",
       "      <td>450000.0</td>\n",
       "      <td>Working</td>\n",
       "      <td>Higher education</td>\n",
       "      <td>Married</td>\n",
       "      <td>House / apartment</td>\n",
       "      <td>-19087</td>\n",
       "      <td>-4434</td>\n",
       "      <td>1</td>\n",
       "      <td>0</td>\n",
       "      <td>1</td>\n",
       "      <td>0</td>\n",
       "      <td>Managers</td>\n",
       "      <td>2.0</td>\n",
       "      <td>-22.0</td>\n",
       "      <td>2.0</td>\n",
       "    </tr>\n",
       "    <tr>\n",
       "      <th>3</th>\n",
       "      <td>3</td>\n",
       "      <td>F</td>\n",
       "      <td>N</td>\n",
       "      <td>Y</td>\n",
       "      <td>0</td>\n",
       "      <td>202500.0</td>\n",
       "      <td>Commercial associate</td>\n",
       "      <td>Secondary / secondary special</td>\n",
       "      <td>Married</td>\n",
       "      <td>House / apartment</td>\n",
       "      <td>-15088</td>\n",
       "      <td>-2092</td>\n",
       "      <td>1</td>\n",
       "      <td>0</td>\n",
       "      <td>1</td>\n",
       "      <td>0</td>\n",
       "      <td>Sales staff</td>\n",
       "      <td>2.0</td>\n",
       "      <td>-37.0</td>\n",
       "      <td>0.0</td>\n",
       "    </tr>\n",
       "    <tr>\n",
       "      <th>4</th>\n",
       "      <td>4</td>\n",
       "      <td>F</td>\n",
       "      <td>Y</td>\n",
       "      <td>Y</td>\n",
       "      <td>0</td>\n",
       "      <td>157500.0</td>\n",
       "      <td>State servant</td>\n",
       "      <td>Higher education</td>\n",
       "      <td>Married</td>\n",
       "      <td>House / apartment</td>\n",
       "      <td>-15037</td>\n",
       "      <td>-2105</td>\n",
       "      <td>1</td>\n",
       "      <td>0</td>\n",
       "      <td>0</td>\n",
       "      <td>0</td>\n",
       "      <td>Managers</td>\n",
       "      <td>2.0</td>\n",
       "      <td>-26.0</td>\n",
       "      <td>2.0</td>\n",
       "    </tr>\n",
       "  </tbody>\n",
       "</table>\n",
       "</div>"
      ],
      "text/plain": [
       "   index gender car reality  child_num  income_total           income_type  \\\n",
       "0      0      F   N       N          0      202500.0  Commercial associate   \n",
       "1      1      F   N       Y          1      247500.0  Commercial associate   \n",
       "2      2      M   Y       Y          0      450000.0               Working   \n",
       "3      3      F   N       Y          0      202500.0  Commercial associate   \n",
       "4      4      F   Y       Y          0      157500.0         State servant   \n",
       "\n",
       "                        edu_type     family_type           house_type  \\\n",
       "0               Higher education         Married  Municipal apartment   \n",
       "1  Secondary / secondary special  Civil marriage    House / apartment   \n",
       "2               Higher education         Married    House / apartment   \n",
       "3  Secondary / secondary special         Married    House / apartment   \n",
       "4               Higher education         Married    House / apartment   \n",
       "\n",
       "   DAYS_BIRTH  DAYS_EMPLOYED  FLAG_MOBIL  work_phone  phone  email  \\\n",
       "0      -13899          -4709           1           0      0      0   \n",
       "1      -11380          -1540           1           0      0      1   \n",
       "2      -19087          -4434           1           0      1      0   \n",
       "3      -15088          -2092           1           0      1      0   \n",
       "4      -15037          -2105           1           0      0      0   \n",
       "\n",
       "    occyp_type  family_size  begin_month  credit  \n",
       "0          NaN          2.0         -6.0     1.0  \n",
       "1     Laborers          3.0         -5.0     1.0  \n",
       "2     Managers          2.0        -22.0     2.0  \n",
       "3  Sales staff          2.0        -37.0     0.0  \n",
       "4     Managers          2.0        -26.0     2.0  "
      ]
     },
     "execution_count": 5,
     "metadata": {},
     "output_type": "execute_result"
    }
   ],
   "source": [
    "train.head()"
   ]
  },
  {
   "cell_type": "code",
   "execution_count": 6,
   "metadata": {},
   "outputs": [
    {
     "data": {
      "text/html": [
       "<div>\n",
       "<style scoped>\n",
       "    .dataframe tbody tr th:only-of-type {\n",
       "        vertical-align: middle;\n",
       "    }\n",
       "\n",
       "    .dataframe tbody tr th {\n",
       "        vertical-align: top;\n",
       "    }\n",
       "\n",
       "    .dataframe thead th {\n",
       "        text-align: right;\n",
       "    }\n",
       "</style>\n",
       "<table border=\"1\" class=\"dataframe\">\n",
       "  <thead>\n",
       "    <tr style=\"text-align: right;\">\n",
       "      <th></th>\n",
       "      <th>index</th>\n",
       "      <th>gender</th>\n",
       "      <th>car</th>\n",
       "      <th>reality</th>\n",
       "      <th>child_num</th>\n",
       "      <th>income_total</th>\n",
       "      <th>income_type</th>\n",
       "      <th>edu_type</th>\n",
       "      <th>family_type</th>\n",
       "      <th>house_type</th>\n",
       "      <th>DAYS_BIRTH</th>\n",
       "      <th>DAYS_EMPLOYED</th>\n",
       "      <th>FLAG_MOBIL</th>\n",
       "      <th>work_phone</th>\n",
       "      <th>phone</th>\n",
       "      <th>email</th>\n",
       "      <th>occyp_type</th>\n",
       "      <th>family_size</th>\n",
       "      <th>begin_month</th>\n",
       "    </tr>\n",
       "  </thead>\n",
       "  <tbody>\n",
       "    <tr>\n",
       "      <th>0</th>\n",
       "      <td>26457</td>\n",
       "      <td>M</td>\n",
       "      <td>Y</td>\n",
       "      <td>N</td>\n",
       "      <td>0</td>\n",
       "      <td>112500.0</td>\n",
       "      <td>Pensioner</td>\n",
       "      <td>Secondary / secondary special</td>\n",
       "      <td>Civil marriage</td>\n",
       "      <td>House / apartment</td>\n",
       "      <td>-21990</td>\n",
       "      <td>365243</td>\n",
       "      <td>1</td>\n",
       "      <td>0</td>\n",
       "      <td>1</td>\n",
       "      <td>0</td>\n",
       "      <td>NaN</td>\n",
       "      <td>2.0</td>\n",
       "      <td>-60.0</td>\n",
       "    </tr>\n",
       "    <tr>\n",
       "      <th>1</th>\n",
       "      <td>26458</td>\n",
       "      <td>F</td>\n",
       "      <td>N</td>\n",
       "      <td>Y</td>\n",
       "      <td>0</td>\n",
       "      <td>135000.0</td>\n",
       "      <td>State servant</td>\n",
       "      <td>Higher education</td>\n",
       "      <td>Married</td>\n",
       "      <td>House / apartment</td>\n",
       "      <td>-18964</td>\n",
       "      <td>-8671</td>\n",
       "      <td>1</td>\n",
       "      <td>0</td>\n",
       "      <td>1</td>\n",
       "      <td>0</td>\n",
       "      <td>Core staff</td>\n",
       "      <td>2.0</td>\n",
       "      <td>-36.0</td>\n",
       "    </tr>\n",
       "    <tr>\n",
       "      <th>2</th>\n",
       "      <td>26459</td>\n",
       "      <td>F</td>\n",
       "      <td>N</td>\n",
       "      <td>Y</td>\n",
       "      <td>0</td>\n",
       "      <td>69372.0</td>\n",
       "      <td>Working</td>\n",
       "      <td>Secondary / secondary special</td>\n",
       "      <td>Married</td>\n",
       "      <td>House / apartment</td>\n",
       "      <td>-15887</td>\n",
       "      <td>-217</td>\n",
       "      <td>1</td>\n",
       "      <td>1</td>\n",
       "      <td>1</td>\n",
       "      <td>0</td>\n",
       "      <td>Laborers</td>\n",
       "      <td>2.0</td>\n",
       "      <td>-40.0</td>\n",
       "    </tr>\n",
       "    <tr>\n",
       "      <th>3</th>\n",
       "      <td>26460</td>\n",
       "      <td>M</td>\n",
       "      <td>Y</td>\n",
       "      <td>N</td>\n",
       "      <td>0</td>\n",
       "      <td>112500.0</td>\n",
       "      <td>Commercial associate</td>\n",
       "      <td>Secondary / secondary special</td>\n",
       "      <td>Married</td>\n",
       "      <td>House / apartment</td>\n",
       "      <td>-19270</td>\n",
       "      <td>-2531</td>\n",
       "      <td>1</td>\n",
       "      <td>1</td>\n",
       "      <td>0</td>\n",
       "      <td>0</td>\n",
       "      <td>Drivers</td>\n",
       "      <td>2.0</td>\n",
       "      <td>-41.0</td>\n",
       "    </tr>\n",
       "    <tr>\n",
       "      <th>4</th>\n",
       "      <td>26461</td>\n",
       "      <td>F</td>\n",
       "      <td>Y</td>\n",
       "      <td>Y</td>\n",
       "      <td>0</td>\n",
       "      <td>225000.0</td>\n",
       "      <td>State servant</td>\n",
       "      <td>Higher education</td>\n",
       "      <td>Married</td>\n",
       "      <td>House / apartment</td>\n",
       "      <td>-17822</td>\n",
       "      <td>-9385</td>\n",
       "      <td>1</td>\n",
       "      <td>1</td>\n",
       "      <td>0</td>\n",
       "      <td>0</td>\n",
       "      <td>Managers</td>\n",
       "      <td>2.0</td>\n",
       "      <td>-8.0</td>\n",
       "    </tr>\n",
       "  </tbody>\n",
       "</table>\n",
       "</div>"
      ],
      "text/plain": [
       "   index gender car reality  child_num  income_total           income_type  \\\n",
       "0  26457      M   Y       N          0      112500.0             Pensioner   \n",
       "1  26458      F   N       Y          0      135000.0         State servant   \n",
       "2  26459      F   N       Y          0       69372.0               Working   \n",
       "3  26460      M   Y       N          0      112500.0  Commercial associate   \n",
       "4  26461      F   Y       Y          0      225000.0         State servant   \n",
       "\n",
       "                        edu_type     family_type         house_type  \\\n",
       "0  Secondary / secondary special  Civil marriage  House / apartment   \n",
       "1               Higher education         Married  House / apartment   \n",
       "2  Secondary / secondary special         Married  House / apartment   \n",
       "3  Secondary / secondary special         Married  House / apartment   \n",
       "4               Higher education         Married  House / apartment   \n",
       "\n",
       "   DAYS_BIRTH  DAYS_EMPLOYED  FLAG_MOBIL  work_phone  phone  email  \\\n",
       "0      -21990         365243           1           0      1      0   \n",
       "1      -18964          -8671           1           0      1      0   \n",
       "2      -15887           -217           1           1      1      0   \n",
       "3      -19270          -2531           1           1      0      0   \n",
       "4      -17822          -9385           1           1      0      0   \n",
       "\n",
       "   occyp_type  family_size  begin_month  \n",
       "0         NaN          2.0        -60.0  \n",
       "1  Core staff          2.0        -36.0  \n",
       "2    Laborers          2.0        -40.0  \n",
       "3     Drivers          2.0        -41.0  \n",
       "4    Managers          2.0         -8.0  "
      ]
     },
     "execution_count": 6,
     "metadata": {},
     "output_type": "execute_result"
    }
   ],
   "source": [
    "test.head()"
   ]
  },
  {
   "cell_type": "code",
   "execution_count": 7,
   "metadata": {},
   "outputs": [
    {
     "data": {
      "text/html": [
       "<div>\n",
       "<style scoped>\n",
       "    .dataframe tbody tr th:only-of-type {\n",
       "        vertical-align: middle;\n",
       "    }\n",
       "\n",
       "    .dataframe tbody tr th {\n",
       "        vertical-align: top;\n",
       "    }\n",
       "\n",
       "    .dataframe thead th {\n",
       "        text-align: right;\n",
       "    }\n",
       "</style>\n",
       "<table border=\"1\" class=\"dataframe\">\n",
       "  <thead>\n",
       "    <tr style=\"text-align: right;\">\n",
       "      <th></th>\n",
       "      <th>index</th>\n",
       "      <th>0</th>\n",
       "      <th>1</th>\n",
       "      <th>2</th>\n",
       "    </tr>\n",
       "  </thead>\n",
       "  <tbody>\n",
       "    <tr>\n",
       "      <th>0</th>\n",
       "      <td>26457</td>\n",
       "      <td>0</td>\n",
       "      <td>0</td>\n",
       "      <td>0</td>\n",
       "    </tr>\n",
       "    <tr>\n",
       "      <th>1</th>\n",
       "      <td>26458</td>\n",
       "      <td>0</td>\n",
       "      <td>0</td>\n",
       "      <td>0</td>\n",
       "    </tr>\n",
       "    <tr>\n",
       "      <th>2</th>\n",
       "      <td>26459</td>\n",
       "      <td>0</td>\n",
       "      <td>0</td>\n",
       "      <td>0</td>\n",
       "    </tr>\n",
       "    <tr>\n",
       "      <th>3</th>\n",
       "      <td>26460</td>\n",
       "      <td>0</td>\n",
       "      <td>0</td>\n",
       "      <td>0</td>\n",
       "    </tr>\n",
       "    <tr>\n",
       "      <th>4</th>\n",
       "      <td>26461</td>\n",
       "      <td>0</td>\n",
       "      <td>0</td>\n",
       "      <td>0</td>\n",
       "    </tr>\n",
       "  </tbody>\n",
       "</table>\n",
       "</div>"
      ],
      "text/plain": [
       "   index  0  1  2\n",
       "0  26457  0  0  0\n",
       "1  26458  0  0  0\n",
       "2  26459  0  0  0\n",
       "3  26460  0  0  0\n",
       "4  26461  0  0  0"
      ]
     },
     "execution_count": 7,
     "metadata": {},
     "output_type": "execute_result"
    }
   ],
   "source": [
    "submission.head()"
   ]
  },
  {
   "cell_type": "code",
   "execution_count": 8,
   "metadata": {},
   "outputs": [
    {
     "data": {
      "text/plain": [
       "{'credit'}"
      ]
     },
     "execution_count": 8,
     "metadata": {},
     "output_type": "execute_result"
    }
   ],
   "source": [
    "# column의 차이를 비교할 때\n",
    "set(train.columns) - set(test.columns)"
   ]
  },
  {
   "cell_type": "code",
   "execution_count": 9,
   "metadata": {},
   "outputs": [],
   "source": [
    "y_train = train['credit']"
   ]
  },
  {
   "cell_type": "code",
   "execution_count": 10,
   "metadata": {},
   "outputs": [],
   "source": [
    "# train, test 병합\n",
    "data = pd.concat([train.drop('credit', axis=1), test]).reset_index(drop=True)"
   ]
  },
  {
   "cell_type": "code",
   "execution_count": 11,
   "metadata": {},
   "outputs": [],
   "source": [
    "data_raw = data.copy()"
   ]
  },
  {
   "cell_type": "code",
   "execution_count": 12,
   "metadata": {
    "scrolled": true
   },
   "outputs": [
    {
     "name": "stdout",
     "output_type": "stream",
     "text": [
      "(26457, 20)\n",
      "(10000, 19)\n",
      "(36457, 19)\n"
     ]
    }
   ],
   "source": [
    "print(train.shape)\n",
    "print(test.shape)\n",
    "print(data.shape)"
   ]
  },
  {
   "cell_type": "code",
   "execution_count": 13,
   "metadata": {},
   "outputs": [
    {
     "data": {
      "text/html": [
       "<div>\n",
       "<style scoped>\n",
       "    .dataframe tbody tr th:only-of-type {\n",
       "        vertical-align: middle;\n",
       "    }\n",
       "\n",
       "    .dataframe tbody tr th {\n",
       "        vertical-align: top;\n",
       "    }\n",
       "\n",
       "    .dataframe thead th {\n",
       "        text-align: right;\n",
       "    }\n",
       "</style>\n",
       "<table border=\"1\" class=\"dataframe\">\n",
       "  <thead>\n",
       "    <tr style=\"text-align: right;\">\n",
       "      <th></th>\n",
       "      <th>index</th>\n",
       "      <th>gender</th>\n",
       "      <th>car</th>\n",
       "      <th>reality</th>\n",
       "      <th>child_num</th>\n",
       "      <th>income_total</th>\n",
       "      <th>income_type</th>\n",
       "      <th>edu_type</th>\n",
       "      <th>family_type</th>\n",
       "      <th>house_type</th>\n",
       "      <th>DAYS_BIRTH</th>\n",
       "      <th>DAYS_EMPLOYED</th>\n",
       "      <th>FLAG_MOBIL</th>\n",
       "      <th>work_phone</th>\n",
       "      <th>phone</th>\n",
       "      <th>email</th>\n",
       "      <th>occyp_type</th>\n",
       "      <th>family_size</th>\n",
       "      <th>begin_month</th>\n",
       "    </tr>\n",
       "  </thead>\n",
       "  <tbody>\n",
       "    <tr>\n",
       "      <th>36452</th>\n",
       "      <td>36452</td>\n",
       "      <td>F</td>\n",
       "      <td>Y</td>\n",
       "      <td>Y</td>\n",
       "      <td>0</td>\n",
       "      <td>202500.0</td>\n",
       "      <td>Working</td>\n",
       "      <td>Incomplete higher</td>\n",
       "      <td>Married</td>\n",
       "      <td>House / apartment</td>\n",
       "      <td>-18593</td>\n",
       "      <td>-5434</td>\n",
       "      <td>1</td>\n",
       "      <td>1</td>\n",
       "      <td>1</td>\n",
       "      <td>0</td>\n",
       "      <td>Accountants</td>\n",
       "      <td>2.0</td>\n",
       "      <td>-19.0</td>\n",
       "    </tr>\n",
       "    <tr>\n",
       "      <th>36453</th>\n",
       "      <td>36453</td>\n",
       "      <td>M</td>\n",
       "      <td>Y</td>\n",
       "      <td>Y</td>\n",
       "      <td>0</td>\n",
       "      <td>202500.0</td>\n",
       "      <td>Working</td>\n",
       "      <td>Secondary / secondary special</td>\n",
       "      <td>Civil marriage</td>\n",
       "      <td>House / apartment</td>\n",
       "      <td>-10886</td>\n",
       "      <td>-1315</td>\n",
       "      <td>1</td>\n",
       "      <td>1</td>\n",
       "      <td>0</td>\n",
       "      <td>0</td>\n",
       "      <td>Laborers</td>\n",
       "      <td>2.0</td>\n",
       "      <td>-34.0</td>\n",
       "    </tr>\n",
       "    <tr>\n",
       "      <th>36454</th>\n",
       "      <td>36454</td>\n",
       "      <td>F</td>\n",
       "      <td>N</td>\n",
       "      <td>Y</td>\n",
       "      <td>0</td>\n",
       "      <td>292500.0</td>\n",
       "      <td>Working</td>\n",
       "      <td>Secondary / secondary special</td>\n",
       "      <td>Married</td>\n",
       "      <td>House / apartment</td>\n",
       "      <td>-21016</td>\n",
       "      <td>-14018</td>\n",
       "      <td>1</td>\n",
       "      <td>0</td>\n",
       "      <td>0</td>\n",
       "      <td>0</td>\n",
       "      <td>Medicine staff</td>\n",
       "      <td>2.0</td>\n",
       "      <td>-55.0</td>\n",
       "    </tr>\n",
       "    <tr>\n",
       "      <th>36455</th>\n",
       "      <td>36455</td>\n",
       "      <td>F</td>\n",
       "      <td>Y</td>\n",
       "      <td>N</td>\n",
       "      <td>0</td>\n",
       "      <td>180000.0</td>\n",
       "      <td>Commercial associate</td>\n",
       "      <td>Secondary / secondary special</td>\n",
       "      <td>Married</td>\n",
       "      <td>House / apartment</td>\n",
       "      <td>-16541</td>\n",
       "      <td>-1085</td>\n",
       "      <td>1</td>\n",
       "      <td>0</td>\n",
       "      <td>1</td>\n",
       "      <td>0</td>\n",
       "      <td>NaN</td>\n",
       "      <td>2.0</td>\n",
       "      <td>-33.0</td>\n",
       "    </tr>\n",
       "    <tr>\n",
       "      <th>36456</th>\n",
       "      <td>36456</td>\n",
       "      <td>F</td>\n",
       "      <td>N</td>\n",
       "      <td>Y</td>\n",
       "      <td>0</td>\n",
       "      <td>270000.0</td>\n",
       "      <td>Working</td>\n",
       "      <td>Higher education</td>\n",
       "      <td>Married</td>\n",
       "      <td>House / apartment</td>\n",
       "      <td>-9154</td>\n",
       "      <td>-187</td>\n",
       "      <td>1</td>\n",
       "      <td>0</td>\n",
       "      <td>0</td>\n",
       "      <td>1</td>\n",
       "      <td>Laborers</td>\n",
       "      <td>2.0</td>\n",
       "      <td>-11.0</td>\n",
       "    </tr>\n",
       "  </tbody>\n",
       "</table>\n",
       "</div>"
      ],
      "text/plain": [
       "       index gender car reality  child_num  income_total  \\\n",
       "36452  36452      F   Y       Y          0      202500.0   \n",
       "36453  36453      M   Y       Y          0      202500.0   \n",
       "36454  36454      F   N       Y          0      292500.0   \n",
       "36455  36455      F   Y       N          0      180000.0   \n",
       "36456  36456      F   N       Y          0      270000.0   \n",
       "\n",
       "                income_type                       edu_type     family_type  \\\n",
       "36452               Working              Incomplete higher         Married   \n",
       "36453               Working  Secondary / secondary special  Civil marriage   \n",
       "36454               Working  Secondary / secondary special         Married   \n",
       "36455  Commercial associate  Secondary / secondary special         Married   \n",
       "36456               Working               Higher education         Married   \n",
       "\n",
       "              house_type  DAYS_BIRTH  DAYS_EMPLOYED  FLAG_MOBIL  work_phone  \\\n",
       "36452  House / apartment      -18593          -5434           1           1   \n",
       "36453  House / apartment      -10886          -1315           1           1   \n",
       "36454  House / apartment      -21016         -14018           1           0   \n",
       "36455  House / apartment      -16541          -1085           1           0   \n",
       "36456  House / apartment       -9154           -187           1           0   \n",
       "\n",
       "       phone  email      occyp_type  family_size  begin_month  \n",
       "36452      1      0     Accountants          2.0        -19.0  \n",
       "36453      0      0        Laborers          2.0        -34.0  \n",
       "36454      0      0  Medicine staff          2.0        -55.0  \n",
       "36455      1      0             NaN          2.0        -33.0  \n",
       "36456      0      1        Laborers          2.0        -11.0  "
      ]
     },
     "execution_count": 13,
     "metadata": {},
     "output_type": "execute_result"
    }
   ],
   "source": [
    "data.tail()"
   ]
  },
  {
   "cell_type": "code",
   "execution_count": 14,
   "metadata": {},
   "outputs": [
    {
     "data": {
      "text/html": [
       "<div>\n",
       "<style scoped>\n",
       "    .dataframe tbody tr th:only-of-type {\n",
       "        vertical-align: middle;\n",
       "    }\n",
       "\n",
       "    .dataframe tbody tr th {\n",
       "        vertical-align: top;\n",
       "    }\n",
       "\n",
       "    .dataframe thead th {\n",
       "        text-align: right;\n",
       "    }\n",
       "</style>\n",
       "<table border=\"1\" class=\"dataframe\">\n",
       "  <thead>\n",
       "    <tr style=\"text-align: right;\">\n",
       "      <th></th>\n",
       "      <th>gender</th>\n",
       "      <th>car</th>\n",
       "      <th>reality</th>\n",
       "      <th>child_num</th>\n",
       "      <th>income_total</th>\n",
       "      <th>income_type</th>\n",
       "      <th>edu_type</th>\n",
       "      <th>family_type</th>\n",
       "      <th>house_type</th>\n",
       "      <th>DAYS_BIRTH</th>\n",
       "      <th>DAYS_EMPLOYED</th>\n",
       "      <th>FLAG_MOBIL</th>\n",
       "      <th>work_phone</th>\n",
       "      <th>phone</th>\n",
       "      <th>email</th>\n",
       "      <th>occyp_type</th>\n",
       "      <th>family_size</th>\n",
       "      <th>begin_month</th>\n",
       "    </tr>\n",
       "  </thead>\n",
       "  <tbody>\n",
       "    <tr>\n",
       "      <th>0</th>\n",
       "      <td>F</td>\n",
       "      <td>N</td>\n",
       "      <td>N</td>\n",
       "      <td>0</td>\n",
       "      <td>202500.0</td>\n",
       "      <td>Commercial associate</td>\n",
       "      <td>Higher education</td>\n",
       "      <td>Married</td>\n",
       "      <td>Municipal apartment</td>\n",
       "      <td>-13899</td>\n",
       "      <td>-4709</td>\n",
       "      <td>1</td>\n",
       "      <td>0</td>\n",
       "      <td>0</td>\n",
       "      <td>0</td>\n",
       "      <td>NaN</td>\n",
       "      <td>2.0</td>\n",
       "      <td>-6.0</td>\n",
       "    </tr>\n",
       "    <tr>\n",
       "      <th>1</th>\n",
       "      <td>F</td>\n",
       "      <td>N</td>\n",
       "      <td>Y</td>\n",
       "      <td>1</td>\n",
       "      <td>247500.0</td>\n",
       "      <td>Commercial associate</td>\n",
       "      <td>Secondary / secondary special</td>\n",
       "      <td>Civil marriage</td>\n",
       "      <td>House / apartment</td>\n",
       "      <td>-11380</td>\n",
       "      <td>-1540</td>\n",
       "      <td>1</td>\n",
       "      <td>0</td>\n",
       "      <td>0</td>\n",
       "      <td>1</td>\n",
       "      <td>Laborers</td>\n",
       "      <td>3.0</td>\n",
       "      <td>-5.0</td>\n",
       "    </tr>\n",
       "    <tr>\n",
       "      <th>2</th>\n",
       "      <td>M</td>\n",
       "      <td>Y</td>\n",
       "      <td>Y</td>\n",
       "      <td>0</td>\n",
       "      <td>450000.0</td>\n",
       "      <td>Working</td>\n",
       "      <td>Higher education</td>\n",
       "      <td>Married</td>\n",
       "      <td>House / apartment</td>\n",
       "      <td>-19087</td>\n",
       "      <td>-4434</td>\n",
       "      <td>1</td>\n",
       "      <td>0</td>\n",
       "      <td>1</td>\n",
       "      <td>0</td>\n",
       "      <td>Managers</td>\n",
       "      <td>2.0</td>\n",
       "      <td>-22.0</td>\n",
       "    </tr>\n",
       "    <tr>\n",
       "      <th>3</th>\n",
       "      <td>F</td>\n",
       "      <td>N</td>\n",
       "      <td>Y</td>\n",
       "      <td>0</td>\n",
       "      <td>202500.0</td>\n",
       "      <td>Commercial associate</td>\n",
       "      <td>Secondary / secondary special</td>\n",
       "      <td>Married</td>\n",
       "      <td>House / apartment</td>\n",
       "      <td>-15088</td>\n",
       "      <td>-2092</td>\n",
       "      <td>1</td>\n",
       "      <td>0</td>\n",
       "      <td>1</td>\n",
       "      <td>0</td>\n",
       "      <td>Sales staff</td>\n",
       "      <td>2.0</td>\n",
       "      <td>-37.0</td>\n",
       "    </tr>\n",
       "    <tr>\n",
       "      <th>4</th>\n",
       "      <td>F</td>\n",
       "      <td>Y</td>\n",
       "      <td>Y</td>\n",
       "      <td>0</td>\n",
       "      <td>157500.0</td>\n",
       "      <td>State servant</td>\n",
       "      <td>Higher education</td>\n",
       "      <td>Married</td>\n",
       "      <td>House / apartment</td>\n",
       "      <td>-15037</td>\n",
       "      <td>-2105</td>\n",
       "      <td>1</td>\n",
       "      <td>0</td>\n",
       "      <td>0</td>\n",
       "      <td>0</td>\n",
       "      <td>Managers</td>\n",
       "      <td>2.0</td>\n",
       "      <td>-26.0</td>\n",
       "    </tr>\n",
       "  </tbody>\n",
       "</table>\n",
       "</div>"
      ],
      "text/plain": [
       "  gender car reality  child_num  income_total           income_type  \\\n",
       "0      F   N       N          0      202500.0  Commercial associate   \n",
       "1      F   N       Y          1      247500.0  Commercial associate   \n",
       "2      M   Y       Y          0      450000.0               Working   \n",
       "3      F   N       Y          0      202500.0  Commercial associate   \n",
       "4      F   Y       Y          0      157500.0         State servant   \n",
       "\n",
       "                        edu_type     family_type           house_type  \\\n",
       "0               Higher education         Married  Municipal apartment   \n",
       "1  Secondary / secondary special  Civil marriage    House / apartment   \n",
       "2               Higher education         Married    House / apartment   \n",
       "3  Secondary / secondary special         Married    House / apartment   \n",
       "4               Higher education         Married    House / apartment   \n",
       "\n",
       "   DAYS_BIRTH  DAYS_EMPLOYED  FLAG_MOBIL  work_phone  phone  email  \\\n",
       "0      -13899          -4709           1           0      0      0   \n",
       "1      -11380          -1540           1           0      0      1   \n",
       "2      -19087          -4434           1           0      1      0   \n",
       "3      -15088          -2092           1           0      1      0   \n",
       "4      -15037          -2105           1           0      0      0   \n",
       "\n",
       "    occyp_type  family_size  begin_month  \n",
       "0          NaN          2.0         -6.0  \n",
       "1     Laborers          3.0         -5.0  \n",
       "2     Managers          2.0        -22.0  \n",
       "3  Sales staff          2.0        -37.0  \n",
       "4     Managers          2.0        -26.0  "
      ]
     },
     "execution_count": 14,
     "metadata": {},
     "output_type": "execute_result"
    }
   ],
   "source": [
    "# index는 필요없기 때문에 제거\n",
    "data = data.drop([\"index\"], axis=1)\n",
    "data.head()"
   ]
  },
  {
   "cell_type": "code",
   "execution_count": 15,
   "metadata": {
    "scrolled": false
   },
   "outputs": [
    {
     "data": {
      "text/plain": [
       "gender               0\n",
       "car                  0\n",
       "reality              0\n",
       "child_num            0\n",
       "income_total         0\n",
       "income_type          0\n",
       "edu_type             0\n",
       "family_type          0\n",
       "house_type           0\n",
       "DAYS_BIRTH           0\n",
       "DAYS_EMPLOYED        0\n",
       "FLAG_MOBIL           0\n",
       "work_phone           0\n",
       "phone                0\n",
       "email                0\n",
       "occyp_type       11323\n",
       "family_size          0\n",
       "begin_month          0\n",
       "dtype: int64"
      ]
     },
     "execution_count": 15,
     "metadata": {},
     "output_type": "execute_result"
    }
   ],
   "source": [
    "# null값이 있는지 확인\n",
    "data.isnull().sum()"
   ]
  },
  {
   "cell_type": "code",
   "execution_count": 16,
   "metadata": {},
   "outputs": [],
   "source": [
    "data['occyp_type'] = data['occyp_type'].fillna('NaN')"
   ]
  },
  {
   "cell_type": "code",
   "execution_count": 17,
   "metadata": {
    "scrolled": true
   },
   "outputs": [
    {
     "data": {
      "text/plain": [
       "gender           0\n",
       "car              0\n",
       "reality          0\n",
       "child_num        0\n",
       "income_total     0\n",
       "income_type      0\n",
       "edu_type         0\n",
       "family_type      0\n",
       "house_type       0\n",
       "DAYS_BIRTH       0\n",
       "DAYS_EMPLOYED    0\n",
       "FLAG_MOBIL       0\n",
       "work_phone       0\n",
       "phone            0\n",
       "email            0\n",
       "occyp_type       0\n",
       "family_size      0\n",
       "begin_month      0\n",
       "dtype: int64"
      ]
     },
     "execution_count": 17,
     "metadata": {},
     "output_type": "execute_result"
    }
   ],
   "source": [
    "data.isnull().sum()"
   ]
  },
  {
   "cell_type": "code",
   "execution_count": 18,
   "metadata": {
    "scrolled": true
   },
   "outputs": [
    {
     "name": "stdout",
     "output_type": "stream",
     "text": [
      "column : gender\n",
      "The number of unique : 2\n",
      "\n",
      "column : car\n",
      "The number of unique : 2\n",
      "\n",
      "column : reality\n",
      "The number of unique : 2\n",
      "\n",
      "column : child_num\n",
      "The number of unique : 9\n",
      "\n",
      "column : income_total\n",
      "The number of unique : 265\n",
      "\n",
      "column : income_type\n",
      "The number of unique : 5\n",
      "\n",
      "column : edu_type\n",
      "The number of unique : 5\n",
      "\n",
      "column : family_type\n",
      "The number of unique : 5\n",
      "\n",
      "column : house_type\n",
      "The number of unique : 6\n",
      "\n",
      "column : DAYS_BIRTH\n",
      "The number of unique : 7183\n",
      "\n",
      "column : DAYS_EMPLOYED\n",
      "The number of unique : 3640\n",
      "\n",
      "column : FLAG_MOBIL\n",
      "The number of unique : 1\n",
      "\n",
      "column : work_phone\n",
      "The number of unique : 2\n",
      "\n",
      "column : phone\n",
      "The number of unique : 2\n",
      "\n",
      "column : email\n",
      "The number of unique : 2\n",
      "\n",
      "column : occyp_type\n",
      "The number of unique : 19\n",
      "\n",
      "column : family_size\n",
      "The number of unique : 10\n",
      "\n",
      "column : begin_month\n",
      "The number of unique : 61\n",
      "\n"
     ]
    }
   ],
   "source": [
    "# column 별 unique 값 갯수 확인\n",
    "for col in data.columns:\n",
    "    print(f\"column : {col}\")\n",
    "    print(f\"The number of unique : {data[col].nunique()}\")\n",
    "    print()"
   ]
  },
  {
   "cell_type": "code",
   "execution_count": 19,
   "metadata": {
    "scrolled": true
   },
   "outputs": [
    {
     "name": "stdout",
     "output_type": "stream",
     "text": [
      "column : gender\n",
      "unique : ['F' 'M']\n",
      "\n",
      "column : car\n",
      "unique : ['N' 'Y']\n",
      "\n",
      "column : reality\n",
      "unique : ['N' 'Y']\n",
      "\n",
      "column : income_type\n",
      "unique : ['Commercial associate' 'Working' 'State servant' 'Pensioner' 'Student']\n",
      "\n",
      "column : edu_type\n",
      "unique : ['Higher education' 'Secondary / secondary special' 'Incomplete higher'\n",
      " 'Lower secondary' 'Academic degree']\n",
      "\n",
      "column : family_type\n",
      "unique : ['Married' 'Civil marriage' 'Separated' 'Single / not married' 'Widow']\n",
      "\n",
      "column : house_type\n",
      "unique : ['Municipal apartment' 'House / apartment' 'With parents'\n",
      " 'Co-op apartment' 'Rented apartment' 'Office apartment']\n",
      "\n",
      "column : occyp_type\n",
      "unique : ['NaN' 'Laborers' 'Managers' 'Sales staff' 'High skill tech staff'\n",
      " 'Core staff' 'Drivers' 'Medicine staff' 'Accountants' 'Realty agents'\n",
      " 'Security staff' 'Cleaning staff' 'Private service staff' 'Cooking staff'\n",
      " 'Secretaries' 'HR staff' 'IT staff' 'Low-skill Laborers'\n",
      " 'Waiters/barmen staff']\n",
      "\n"
     ]
    }
   ],
   "source": [
    "# column 별 unique 값 확인\n",
    "for col in data.columns:\n",
    "    if data[col].dtype == 'object':\n",
    "        print(f\"column : {col}\")\n",
    "        print(f\"unique : {data[col].unique()}\")\n",
    "        print()"
   ]
  },
  {
   "cell_type": "code",
   "execution_count": 20,
   "metadata": {
    "scrolled": true
   },
   "outputs": [
    {
     "name": "stdout",
     "output_type": "stream",
     "text": [
      "column : child_num\n",
      "unique : [ 0  1  2  3  4  5 14 19  7]\n",
      "\n",
      "column : income_total\n",
      "unique : [ 202500.   247500.   450000.   157500.   270000.   315000.   180000.\n",
      "  103500.   193500.   135000.   216000.   225000.   405000.   112500.\n",
      "  121500.   585000.    90900.    99000.    67500.   292500.    90000.\n",
      "  495000.    54000.   306000.   130500.   144000.   360000.    40500.\n",
      "   81000.   351000.   184500.    45000.    79650.   153000.   126000.\n",
      "  382500.   283500.   175500.   297000.   387000.   337500.   256500.\n",
      "   72000.   540000.   155250.   189000.   139500.   459000.   720000.\n",
      "  252000.   171000.   427500.    78750.    94500.   562500.   238500.\n",
      "  630000.    76500.   301500.   229500.   148500.   166500.   463500.\n",
      "  432000.   117000.   787500.   234000.   108000.   279000.   900000.\n",
      "  378000.    31500.    29250.   211500.   207000.    49500.    65250.\n",
      "  265500.   261000.   162000.   310500.   373500.   140850.   123750.\n",
      "  191250.    58500.   198000.    83250.    87448.5  391500.   716323.5\n",
      "  675000.    85500.   990000.   274500.    56250.    92250.    50850.\n",
      "  185400.   140400.   187650.    47250.   324000.   243000.    97731.\n",
      "   37800.   612000.   171261.    73350.  1575000.   222750.   129150.\n",
      "  131400.   267750.   288000.   145350.    56700.    33750.   114750.\n",
      "  179100.   326250.   652500.    33300.   134419.5  115290.   220500.\n",
      "  342000.    63000.    38025.    95850.   945000.   167400.   101250.\n",
      "  143100.    74250.   208350.   231750.    30150.   418500.   634500.\n",
      "  423000.    69372.    36900.   113400.    38250.   742500.   517500.\n",
      "   60750.   560250.   206100.   122400.    62653.5  119250.   196650.\n",
      "  333000.    67050.   369000.   121900.5  810000.    31531.5  173250.\n",
      "  445500.   110250.   133650.   190399.5  240750.   249750.    69750.\n",
      "  328500.   360450.   355500.    72900.   150750.   257625.   161100.\n",
      "  616500.   765000.   396000.   472500.   364500.   255150.    27000.\n",
      "  594000.   124200.   139050.    46948.5  132750.   134995.5  178650.\n",
      "   38700.    61875.   204750.   128542.5  253800.   119700.   176400.\n",
      "  468000.   165600.    36000.   116100.    74700.   132372.    39600.\n",
      "   62100.   175950.   346500.   141750.    60376.5  254700.   151200.\n",
      "   32400.   661500.   441000.    45900.   176175.   118350.   178200.\n",
      "   57150.   494100.    51750.   120150.   227250.    97650.   215100.\n",
      "  531000.   184135.5  177750.    87750.    82350.   159750.   607500.\n",
      "  147150.   165150.   414000.   146250.   168750.   697500.   213750.\n",
      "  116653.5   99900.  1125000.    44550.    91530.   105750.   170302.5\n",
      " 1350000.   179271.   234135.   191700.   115200.    73575.    31950.\n",
      "   89100.   160200.   215550.    74061.    42300.   164250.   195750.\n",
      "  265581.    47790.    52650.    89550.   236250.   177012. ]\n",
      "\n",
      "column : DAYS_BIRTH\n",
      "unique : [-13899 -11380 -19087 ... -14560 -20910 -23013]\n",
      "\n",
      "column : DAYS_EMPLOYED\n",
      "unique : [-4709 -1540 -4434 ...  -329 -2268  -616]\n",
      "\n",
      "column : FLAG_MOBIL\n",
      "unique : [1]\n",
      "\n",
      "column : work_phone\n",
      "unique : [0 1]\n",
      "\n",
      "column : phone\n",
      "unique : [0 1]\n",
      "\n",
      "column : email\n",
      "unique : [0 1]\n",
      "\n",
      "column : family_size\n",
      "unique : [ 2.  3.  4.  1.  5.  6.  7. 15. 20.  9.]\n",
      "\n",
      "column : begin_month\n",
      "unique : [ -6.  -5. -22. -37. -26. -18. -41. -53. -38. -40. -51. -60.  -2. -14.\n",
      "  -7. -35.  -4. -13. -57. -47. -33. -30. -20.  -8. -39. -21. -19. -24.\n",
      " -48. -12. -10. -42. -29.  -3. -23. -25.  -1. -15. -32. -59. -54. -34.\n",
      "   0. -27. -45. -56. -46.  -9. -44. -36. -43. -49. -11. -55. -58. -28.\n",
      " -52. -17. -50. -16. -31.]\n",
      "\n"
     ]
    }
   ],
   "source": [
    "# column 별 unique 값 확인\n",
    "for col in data.columns:\n",
    "    if data[col].dtype != 'object':\n",
    "        print(f\"column : {col}\")\n",
    "        print(f\"unique : {data[col].unique()}\")\n",
    "        print()"
   ]
  },
  {
   "cell_type": "code",
   "execution_count": 21,
   "metadata": {},
   "outputs": [
    {
     "data": {
      "text/plain": [
       "count      36457.00000000000000000000000000000000000\n",
       "mean      186685.73666236936696805059909820556640625\n",
       "std       101789.22648233867948874831199645996093750\n",
       "min        27000.00000000000000000000000000000000000\n",
       "25%       121500.00000000000000000000000000000000000\n",
       "50%       157500.00000000000000000000000000000000000\n",
       "75%       225000.00000000000000000000000000000000000\n",
       "max      1575000.00000000000000000000000000000000000\n",
       "Name: income_total, dtype: float64"
      ]
     },
     "execution_count": 21,
     "metadata": {},
     "output_type": "execute_result"
    }
   ],
   "source": [
    "pd.set_option(\"precision\", 100)\n",
    "data['income_total'].describe()"
   ]
  },
  {
   "cell_type": "code",
   "execution_count": 22,
   "metadata": {},
   "outputs": [],
   "source": [
    "data['income_total'] = np.log1p(data['income_total'])"
   ]
  },
  {
   "cell_type": "code",
   "execution_count": 23,
   "metadata": {},
   "outputs": [
    {
     "data": {
      "text/plain": [
       "<AxesSubplot:xlabel='income_total', ylabel='Count'>"
      ]
     },
     "execution_count": 23,
     "metadata": {},
     "output_type": "execute_result"
    },
    {
     "data": {
      "image/png": "[encoded data removed]",
      "text/plain": [
       "<Figure size 720x432 with 1 Axes>"
      ]
     },
     "metadata": {
      "needs_background": "light"
     },
     "output_type": "display_data"
    }
   ],
   "source": [
    "plt.figure(figsize=(10, 6))\n",
    "sns.histplot(data['income_total'])"
   ]
  },
  {
   "cell_type": "code",
   "execution_count": 24,
   "metadata": {},
   "outputs": [],
   "source": [
    "data = data.drop(['FLAG_MOBIL'], axis=1)"
   ]
  },
  {
   "cell_type": "code",
   "execution_count": 25,
   "metadata": {
    "scrolled": true
   },
   "outputs": [],
   "source": [
    "data['DAYS_BIRTH'] = data['DAYS_BIRTH'].map(lambda x: -x/365)"
   ]
  },
  {
   "cell_type": "code",
   "execution_count": 26,
   "metadata": {},
   "outputs": [],
   "source": [
    "data['begin_month'] = data['begin_month'].map(lambda x: -x/12)"
   ]
  },
  {
   "cell_type": "code",
   "execution_count": 27,
   "metadata": {},
   "outputs": [
    {
     "data": {
      "text/plain": [
       "count     36457.0000000000000000000000000000000000000\n",
       "mean      59262.9355679293439607135951519012451171875\n",
       "std      137651.3348588631197344511747360229492187500\n",
       "min      -15713.0000000000000000000000000000000000000\n",
       "25%       -3153.0000000000000000000000000000000000000\n",
       "50%       -1552.0000000000000000000000000000000000000\n",
       "75%        -408.0000000000000000000000000000000000000\n",
       "max      365243.0000000000000000000000000000000000000\n",
       "Name: DAYS_EMPLOYED, dtype: float64"
      ]
     },
     "execution_count": 27,
     "metadata": {},
     "output_type": "execute_result"
    }
   ],
   "source": [
    "data['DAYS_EMPLOYED'].describe()"
   ]
  },
  {
   "cell_type": "code",
   "execution_count": 28,
   "metadata": {},
   "outputs": [
    {
     "data": {
      "text/plain": [
       "<AxesSubplot:xlabel='DAYS_EMPLOYED'>"
      ]
     },
     "execution_count": 28,
     "metadata": {},
     "output_type": "execute_result"
    },
    {
     "data": {
      "image/png": "[encoded data removed]",
      "text/plain": [
       "<Figure size 432x288 with 1 Axes>"
      ]
     },
     "metadata": {
      "needs_background": "light"
     },
     "output_type": "display_data"
    }
   ],
   "source": [
    "sns.boxplot(data['DAYS_EMPLOYED'])"
   ]
  },
  {
   "cell_type": "code",
   "execution_count": 29,
   "metadata": {
    "scrolled": true
   },
   "outputs": [
    {
     "data": {
      "text/plain": [
       "array(['Pensioner'], dtype=object)"
      ]
     },
     "execution_count": 29,
     "metadata": {},
     "output_type": "execute_result"
    }
   ],
   "source": [
    "data.loc[(data['DAYS_EMPLOYED'] > 0)]['income_type'].unique()"
   ]
  },
  {
   "cell_type": "code",
   "execution_count": 32,
   "metadata": {},
   "outputs": [],
   "source": [
    "data['DAYS_EMPLOYED'] = data_raw['DAYS_EMPLOYED']"
   ]
  },
  {
   "cell_type": "code",
   "execution_count": 33,
   "metadata": {},
   "outputs": [
    {
     "data": {
      "text/plain": [
       "0        -4709\n",
       "1        -1540\n",
       "2        -4434\n",
       "3        -2092\n",
       "4        -2105\n",
       "         ...  \n",
       "36452    -5434\n",
       "36453    -1315\n",
       "36454   -14018\n",
       "36455    -1085\n",
       "36456     -187\n",
       "Name: DAYS_EMPLOYED, Length: 36457, dtype: int64"
      ]
     },
     "execution_count": 33,
     "metadata": {},
     "output_type": "execute_result"
    }
   ],
   "source": [
    "data['DAYS_EMPLOYED']"
   ]
  },
  {
   "cell_type": "markdown",
   "metadata": {},
   "source": [
    "- 양수값은 모두 연금을 받는 사람들"
   ]
  },
  {
   "cell_type": "code",
   "execution_count": 34,
   "metadata": {},
   "outputs": [],
   "source": [
    "data['DAYS_EMPLOYED'] = data['DAYS_EMPLOYED'].map(lambda x: -x if x < 0 else 0)"
   ]
  },
  {
   "cell_type": "code",
   "execution_count": 35,
   "metadata": {},
   "outputs": [
    {
     "data": {
      "text/plain": [
       "<AxesSubplot:xlabel='DAYS_EMPLOYED', ylabel='Count'>"
      ]
     },
     "execution_count": 35,
     "metadata": {},
     "output_type": "execute_result"
    },
    {
     "data": {
      "image/png": "[encoded data removed]",
      "text/plain": [
       "<Figure size 432x288 with 1 Axes>"
      ]
     },
     "metadata": {
      "needs_background": "light"
     },
     "output_type": "display_data"
    }
   ],
   "source": [
    "sns.histplot(data['DAYS_EMPLOYED'])"
   ]
  },
  {
   "cell_type": "code",
   "execution_count": 36,
   "metadata": {},
   "outputs": [],
   "source": [
    "# Categorical data One-Hot Encoding, 데이터 타입은 string 타입이어야 한다.\n",
    "data = pd.get_dummies(data, columns=['gender', 'car', 'reality', 'income_type', 'edu_type', 'family_type', 'house_type', 'occyp_type'])"
   ]
  },
  {
   "cell_type": "code",
   "execution_count": 37,
   "metadata": {
    "scrolled": true
   },
   "outputs": [
    {
     "data": {
      "text/plain": [
       "(36457, 55)"
      ]
     },
     "execution_count": 37,
     "metadata": {},
     "output_type": "execute_result"
    }
   ],
   "source": [
    "data.shape"
   ]
  },
  {
   "cell_type": "code",
   "execution_count": 38,
   "metadata": {},
   "outputs": [
    {
     "data": {
      "text/html": [
       "<div>\n",
       "<style scoped>\n",
       "    .dataframe tbody tr th:only-of-type {\n",
       "        vertical-align: middle;\n",
       "    }\n",
       "\n",
       "    .dataframe tbody tr th {\n",
       "        vertical-align: top;\n",
       "    }\n",
       "\n",
       "    .dataframe thead th {\n",
       "        text-align: right;\n",
       "    }\n",
       "</style>\n",
       "<table border=\"1\" class=\"dataframe\">\n",
       "  <thead>\n",
       "    <tr style=\"text-align: right;\">\n",
       "      <th></th>\n",
       "      <th>child_num</th>\n",
       "      <th>income_total</th>\n",
       "      <th>DAYS_BIRTH</th>\n",
       "      <th>DAYS_EMPLOYED</th>\n",
       "      <th>work_phone</th>\n",
       "      <th>phone</th>\n",
       "      <th>email</th>\n",
       "      <th>family_size</th>\n",
       "      <th>begin_month</th>\n",
       "      <th>gender_F</th>\n",
       "      <th>...</th>\n",
       "      <th>occyp_type_Low-skill Laborers</th>\n",
       "      <th>occyp_type_Managers</th>\n",
       "      <th>occyp_type_Medicine staff</th>\n",
       "      <th>occyp_type_NaN</th>\n",
       "      <th>occyp_type_Private service staff</th>\n",
       "      <th>occyp_type_Realty agents</th>\n",
       "      <th>occyp_type_Sales staff</th>\n",
       "      <th>occyp_type_Secretaries</th>\n",
       "      <th>occyp_type_Security staff</th>\n",
       "      <th>occyp_type_Waiters/barmen staff</th>\n",
       "    </tr>\n",
       "  </thead>\n",
       "  <tbody>\n",
       "    <tr>\n",
       "      <th>0</th>\n",
       "      <td>0</td>\n",
       "      <td>12.2185001037881431074083593557588756084442138...</td>\n",
       "      <td>38.0794520547945225530384050216525793075561523...</td>\n",
       "      <td>4709</td>\n",
       "      <td>0</td>\n",
       "      <td>0</td>\n",
       "      <td>0</td>\n",
       "      <td>2.0</td>\n",
       "      <td>0.50000000000000000000000000000000000000000000...</td>\n",
       "      <td>1</td>\n",
       "      <td>...</td>\n",
       "      <td>0</td>\n",
       "      <td>0</td>\n",
       "      <td>0</td>\n",
       "      <td>1</td>\n",
       "      <td>0</td>\n",
       "      <td>0</td>\n",
       "      <td>0</td>\n",
       "      <td>0</td>\n",
       "      <td>0</td>\n",
       "      <td>0</td>\n",
       "    </tr>\n",
       "    <tr>\n",
       "      <th>1</th>\n",
       "      <td>1</td>\n",
       "      <td>12.4191699013867609124872615211643278598785400...</td>\n",
       "      <td>31.1780821917808204091215884545817971229553222...</td>\n",
       "      <td>1540</td>\n",
       "      <td>0</td>\n",
       "      <td>0</td>\n",
       "      <td>1</td>\n",
       "      <td>3.0</td>\n",
       "      <td>0.41666666666666668517038374375260900706052780...</td>\n",
       "      <td>1</td>\n",
       "      <td>...</td>\n",
       "      <td>0</td>\n",
       "      <td>0</td>\n",
       "      <td>0</td>\n",
       "      <td>0</td>\n",
       "      <td>0</td>\n",
       "      <td>0</td>\n",
       "      <td>0</td>\n",
       "      <td>0</td>\n",
       "      <td>0</td>\n",
       "      <td>0</td>\n",
       "    </tr>\n",
       "    <tr>\n",
       "      <th>2</th>\n",
       "      <td>0</td>\n",
       "      <td>13.0170050839662554409414951805956661701202392...</td>\n",
       "      <td>52.2931506849315042018133681267499923706054687...</td>\n",
       "      <td>4434</td>\n",
       "      <td>0</td>\n",
       "      <td>1</td>\n",
       "      <td>0</td>\n",
       "      <td>2.0</td>\n",
       "      <td>1.83333333333333325931846502498956397175788879...</td>\n",
       "      <td>0</td>\n",
       "      <td>...</td>\n",
       "      <td>0</td>\n",
       "      <td>1</td>\n",
       "      <td>0</td>\n",
       "      <td>0</td>\n",
       "      <td>0</td>\n",
       "      <td>0</td>\n",
       "      <td>0</td>\n",
       "      <td>0</td>\n",
       "      <td>0</td>\n",
       "      <td>0</td>\n",
       "    </tr>\n",
       "    <tr>\n",
       "      <th>3</th>\n",
       "      <td>0</td>\n",
       "      <td>12.2185001037881431074083593557588756084442138...</td>\n",
       "      <td>41.3369863013698619624847196973860263824462890...</td>\n",
       "      <td>2092</td>\n",
       "      <td>0</td>\n",
       "      <td>1</td>\n",
       "      <td>0</td>\n",
       "      <td>2.0</td>\n",
       "      <td>3.08333333333333348136306995002087205648422241...</td>\n",
       "      <td>1</td>\n",
       "      <td>...</td>\n",
       "      <td>0</td>\n",
       "      <td>0</td>\n",
       "      <td>0</td>\n",
       "      <td>0</td>\n",
       "      <td>0</td>\n",
       "      <td>0</td>\n",
       "      <td>1</td>\n",
       "      <td>0</td>\n",
       "      <td>0</td>\n",
       "      <td>0</td>\n",
       "    </tr>\n",
       "    <tr>\n",
       "      <th>4</th>\n",
       "      <td>0</td>\n",
       "      <td>11.9671870864340181839224896975792944431304931...</td>\n",
       "      <td>41.1972602739726028175937244668602943420410156...</td>\n",
       "      <td>2105</td>\n",
       "      <td>0</td>\n",
       "      <td>0</td>\n",
       "      <td>0</td>\n",
       "      <td>2.0</td>\n",
       "      <td>2.16666666666666651863693004997912794351577758...</td>\n",
       "      <td>1</td>\n",
       "      <td>...</td>\n",
       "      <td>0</td>\n",
       "      <td>1</td>\n",
       "      <td>0</td>\n",
       "      <td>0</td>\n",
       "      <td>0</td>\n",
       "      <td>0</td>\n",
       "      <td>0</td>\n",
       "      <td>0</td>\n",
       "      <td>0</td>\n",
       "      <td>0</td>\n",
       "    </tr>\n",
       "  </tbody>\n",
       "</table>\n",
       "<p>5 rows × 55 columns</p>\n",
       "</div>"
      ],
      "text/plain": [
       "   child_num                                       income_total  \\\n",
       "0          0  12.2185001037881431074083593557588756084442138...   \n",
       "1          1  12.4191699013867609124872615211643278598785400...   \n",
       "2          0  13.0170050839662554409414951805956661701202392...   \n",
       "3          0  12.2185001037881431074083593557588756084442138...   \n",
       "4          0  11.9671870864340181839224896975792944431304931...   \n",
       "\n",
       "                                          DAYS_BIRTH  DAYS_EMPLOYED  \\\n",
       "0  38.0794520547945225530384050216525793075561523...           4709   \n",
       "1  31.1780821917808204091215884545817971229553222...           1540   \n",
       "2  52.2931506849315042018133681267499923706054687...           4434   \n",
       "3  41.3369863013698619624847196973860263824462890...           2092   \n",
       "4  41.1972602739726028175937244668602943420410156...           2105   \n",
       "\n",
       "   work_phone  phone  email  family_size  \\\n",
       "0           0      0      0          2.0   \n",
       "1           0      0      1          3.0   \n",
       "2           0      1      0          2.0   \n",
       "3           0      1      0          2.0   \n",
       "4           0      0      0          2.0   \n",
       "\n",
       "                                         begin_month  gender_F  ...  \\\n",
       "0  0.50000000000000000000000000000000000000000000...         1  ...   \n",
       "1  0.41666666666666668517038374375260900706052780...         1  ...   \n",
       "2  1.83333333333333325931846502498956397175788879...         0  ...   \n",
       "3  3.08333333333333348136306995002087205648422241...         1  ...   \n",
       "4  2.16666666666666651863693004997912794351577758...         1  ...   \n",
       "\n",
       "   occyp_type_Low-skill Laborers  occyp_type_Managers  \\\n",
       "0                              0                    0   \n",
       "1                              0                    0   \n",
       "2                              0                    1   \n",
       "3                              0                    0   \n",
       "4                              0                    1   \n",
       "\n",
       "   occyp_type_Medicine staff  occyp_type_NaN  \\\n",
       "0                          0               1   \n",
       "1                          0               0   \n",
       "2                          0               0   \n",
       "3                          0               0   \n",
       "4                          0               0   \n",
       "\n",
       "   occyp_type_Private service staff  occyp_type_Realty agents  \\\n",
       "0                                 0                         0   \n",
       "1                                 0                         0   \n",
       "2                                 0                         0   \n",
       "3                                 0                         0   \n",
       "4                                 0                         0   \n",
       "\n",
       "   occyp_type_Sales staff  occyp_type_Secretaries  occyp_type_Security staff  \\\n",
       "0                       0                       0                          0   \n",
       "1                       0                       0                          0   \n",
       "2                       0                       0                          0   \n",
       "3                       1                       0                          0   \n",
       "4                       0                       0                          0   \n",
       "\n",
       "   occyp_type_Waiters/barmen staff  \n",
       "0                                0  \n",
       "1                                0  \n",
       "2                                0  \n",
       "3                                0  \n",
       "4                                0  \n",
       "\n",
       "[5 rows x 55 columns]"
      ]
     },
     "execution_count": 38,
     "metadata": {},
     "output_type": "execute_result"
    }
   ],
   "source": [
    "data.head()"
   ]
  },
  {
   "cell_type": "code",
   "execution_count": 39,
   "metadata": {},
   "outputs": [],
   "source": [
    "X_train = data[:len(train)]\n",
    "X_test = data[len(train):].reset_index(drop=True)"
   ]
  },
  {
   "cell_type": "code",
   "execution_count": 40,
   "metadata": {
    "scrolled": true
   },
   "outputs": [
    {
     "name": "stdout",
     "output_type": "stream",
     "text": [
      "(26457, 55)\n",
      "(10000, 55)\n"
     ]
    }
   ],
   "source": [
    "print(X_train.shape)\n",
    "print(X_test.shape)"
   ]
  },
  {
   "cell_type": "code",
   "execution_count": 41,
   "metadata": {},
   "outputs": [],
   "source": [
    "X_train.to_pickle('./data/X_train_ver3.pkl')"
   ]
  },
  {
   "cell_type": "code",
   "execution_count": 46,
   "metadata": {},
   "outputs": [],
   "source": [
    "X_test.to_pickle('./data/X_test_ver3.pkl')"
   ]
  },
  {
   "cell_type": "code",
   "execution_count": 42,
   "metadata": {},
   "outputs": [],
   "source": [
    "y_train.to_pickle('./data/y_train_ver3.pkl')"
   ]
  },
  {
   "cell_type": "markdown",
   "metadata": {},
   "source": [
    "# Test"
   ]
  },
  {
   "cell_type": "code",
   "execution_count": 47,
   "metadata": {},
   "outputs": [],
   "source": [
    "X_train = pd.read_pickle('./data/X_train_ver3.pkl')"
   ]
  },
  {
   "cell_type": "code",
   "execution_count": 48,
   "metadata": {},
   "outputs": [],
   "source": [
    "X_test = pd.read_pickle('./data/X_test_ver3.pkl')"
   ]
  },
  {
   "cell_type": "code",
   "execution_count": 59,
   "metadata": {},
   "outputs": [],
   "source": [
    "y_train = pd.read_pickle('./data/y_train_ver3.pkl')"
   ]
  },
  {
   "cell_type": "code",
   "execution_count": 61,
   "metadata": {},
   "outputs": [],
   "source": [
    "# 스코어 계산 함수\n",
    "def get_scores(model, train, y):\n",
    "\n",
    "    X_train, X_valid, y_train, y_valid = train_test_split(train, y, random_state=random_state, test_size=0.1)\n",
    "    model.fit(X_train, y_train, \n",
    "              eval_set=[(X_train, y_train), (X_valid, y_valid)], \n",
    "              early_stopping_rounds=50, \n",
    "              verbose=100)\n",
    "    y_pred = model.predict_proba(X_valid)\n",
    "    df = log_loss(y_valid, y_pred)\n",
    "    \n",
    "    return df"
   ]
  },
  {
   "cell_type": "code",
   "execution_count": 62,
   "metadata": {},
   "outputs": [],
   "source": [
    "lgbm = lgb.LGBMClassifier(n_estimators=1000)"
   ]
  },
  {
   "cell_type": "code",
   "execution_count": 63,
   "metadata": {},
   "outputs": [
    {
     "name": "stdout",
     "output_type": "stream",
     "text": [
      "Training until validation scores don't improve for 50 rounds\n",
      "[100]\ttraining's multi_logloss: 0.656597\tvalid_1's multi_logloss: 0.749291\n",
      "[200]\ttraining's multi_logloss: 0.57655\tvalid_1's multi_logloss: 0.731288\n",
      "[300]\ttraining's multi_logloss: 0.514511\tvalid_1's multi_logloss: 0.726628\n",
      "Early stopping, best iteration is:\n",
      "[341]\ttraining's multi_logloss: 0.492673\tvalid_1's multi_logloss: 0.725266\n"
     ]
    },
    {
     "data": {
      "text/plain": [
       "0.7252656994728335"
      ]
     },
     "execution_count": 63,
     "metadata": {},
     "output_type": "execute_result"
    }
   ],
   "source": [
    "get_scores(lgbm, X_train, y_train)"
   ]
  },
  {
   "cell_type": "markdown",
   "metadata": {},
   "source": [
    "# Optuna를 이용한 Hyperparameter 최적화"
   ]
  },
  {
   "cell_type": "code",
   "execution_count": 79,
   "metadata": {},
   "outputs": [],
   "source": [
    "def objective(trial):\n",
    "\n",
    "    train_x, test_x, train_y, test_y = train_test_split(X_train, y_train, random_state=random_state, test_size=0.2)\n",
    "    dtrain = lgb.Dataset(train_x, label=train_y)\n",
    "    dval = lgb.Dataset(test_x, label=test_y)\n",
    " \n",
    "    params = {\n",
    "        'objective': 'multiclass',\n",
    "        'num_class': 3,\n",
    "        'metric': 'multi_logloss',\n",
    "        'force_row_wise': True,\n",
    "        'random_state': random_state,\n",
    "        'early_stopping_round': 50,\n",
    "        'verbose': -1,\n",
    "#         'num_threads': 16,\n",
    "        'tree_learner': 'voting',\n",
    "        'boosting': 'gbdt',\n",
    "#         'boosting': trial.suggest_categorical('boosting', ['gbdt', 'dart']),\n",
    "        'learning_rate': trial.suggest_uniform('learning_rate', 0.01, 0.03),\n",
    "#         'lambda_l1': trial.suggest_loguniform('lambda_l1', 1e-8, 1.0),\n",
    "#         'lambda_l2': trial.suggest_loguniform('lambda_l2', 1e-8, 1.0),\n",
    "        'num_leaves': trial.suggest_int('num_leaves', 31, 511),\n",
    "        'feature_fraction': trial.suggest_uniform('feature_fraction', 0.3, 0.7),\n",
    "        'bagging_fraction': trial.suggest_uniform('bagging_fraction', 0.7, 1.0),\n",
    "        'bagging_freq': trial.suggest_int('bagging_freq', 1, 11),\n",
    "        'min_child_samples': trial.suggest_int('min_child_samples', 2, 64),\n",
    "    }\n",
    " \n",
    "    gbm = lgb.train(params, dtrain, 2000, dval, verbose_eval=500)\n",
    "    preds = gbm.predict(test_x)\n",
    "    accuracy = log_loss(test_y, preds)\n",
    "    \n",
    "    return accuracy"
   ]
  },
  {
   "cell_type": "code",
   "execution_count": 80,
   "metadata": {
    "scrolled": false
   },
   "outputs": [
    {
     "name": "stderr",
     "output_type": "stream",
     "text": [
      "\u001b[32m[I 2021-04-25 22:09:21,638]\u001b[0m A new study created in memory with name: no-name-4121669a-8216-47f7-b418-7c5139fbfe5d\u001b[0m\n"
     ]
    },
    {
     "name": "stdout",
     "output_type": "stream",
     "text": [
      "Training until validation scores don't improve for 50 rounds\n",
      "[500]\tvalid_0's multi_logloss: 0.720964\n",
      "Early stopping, best iteration is:\n",
      "[710]\tvalid_0's multi_logloss: 0.716794\n"
     ]
    },
    {
     "name": "stderr",
     "output_type": "stream",
     "text": [
      "\u001b[32m[I 2021-04-25 22:09:28,876]\u001b[0m Trial 0 finished with value: 0.7167936257849254 and parameters: {'learning_rate': 0.019870260648584884, 'num_leaves': 108, 'feature_fraction': 0.49687929542446774, 'bagging_fraction': 0.7004495684521482, 'bagging_freq': 2, 'min_child_samples': 19}. Best is trial 0 with value: 0.7167936257849254.\u001b[0m\n"
     ]
    },
    {
     "name": "stdout",
     "output_type": "stream",
     "text": [
      "Training until validation scores don't improve for 50 rounds\n",
      "[500]\tvalid_0's multi_logloss: 0.717564\n",
      "Early stopping, best iteration is:\n",
      "[560]\tvalid_0's multi_logloss: 0.717423\n"
     ]
    },
    {
     "name": "stderr",
     "output_type": "stream",
     "text": [
      "\u001b[32m[I 2021-04-25 22:09:38,436]\u001b[0m Trial 1 finished with value: 0.7174226360603919 and parameters: {'learning_rate': 0.02008951478859105, 'num_leaves': 207, 'feature_fraction': 0.3578875778832408, 'bagging_fraction': 0.9435123574057294, 'bagging_freq': 10, 'min_child_samples': 32}. Best is trial 0 with value: 0.7167936257849254.\u001b[0m\n"
     ]
    },
    {
     "name": "stdout",
     "output_type": "stream",
     "text": [
      "Training until validation scores don't improve for 50 rounds\n",
      "[500]\tvalid_0's multi_logloss: 0.724208\n",
      "Early stopping, best iteration is:\n",
      "[552]\tvalid_0's multi_logloss: 0.723692\n"
     ]
    },
    {
     "name": "stderr",
     "output_type": "stream",
     "text": [
      "\u001b[32m[I 2021-04-25 22:09:49,364]\u001b[0m Trial 2 finished with value: 0.723691722816271 and parameters: {'learning_rate': 0.01666850128392377, 'num_leaves': 389, 'feature_fraction': 0.5353903875905509, 'bagging_fraction': 0.9333031208870812, 'bagging_freq': 2, 'min_child_samples': 64}. Best is trial 0 with value: 0.7167936257849254.\u001b[0m\n"
     ]
    },
    {
     "name": "stdout",
     "output_type": "stream",
     "text": [
      "Training until validation scores don't improve for 50 rounds\n",
      "[500]\tvalid_0's multi_logloss: 0.710723\n",
      "Early stopping, best iteration is:\n",
      "[490]\tvalid_0's multi_logloss: 0.71066\n"
     ]
    },
    {
     "name": "stderr",
     "output_type": "stream",
     "text": [
      "\u001b[32m[I 2021-04-25 22:10:00,715]\u001b[0m Trial 3 finished with value: 0.7106602185671705 and parameters: {'learning_rate': 0.014586935384537909, 'num_leaves': 301, 'feature_fraction': 0.37888773054685226, 'bagging_fraction': 0.7324217849997937, 'bagging_freq': 1, 'min_child_samples': 13}. Best is trial 3 with value: 0.7106602185671705.\u001b[0m\n"
     ]
    },
    {
     "name": "stdout",
     "output_type": "stream",
     "text": [
      "Training until validation scores don't improve for 50 rounds\n",
      "[500]\tvalid_0's multi_logloss: 0.727174\n",
      "Early stopping, best iteration is:\n",
      "[761]\tvalid_0's multi_logloss: 0.721349\n"
     ]
    },
    {
     "name": "stderr",
     "output_type": "stream",
     "text": [
      "\u001b[32m[I 2021-04-25 22:10:18,346]\u001b[0m Trial 4 finished with value: 0.7213485064008577 and parameters: {'learning_rate': 0.010825268801453371, 'num_leaves': 448, 'feature_fraction': 0.4878497058318034, 'bagging_fraction': 0.9777849421323401, 'bagging_freq': 5, 'min_child_samples': 55}. Best is trial 3 with value: 0.7106602185671705.\u001b[0m\n"
     ]
    },
    {
     "name": "stdout",
     "output_type": "stream",
     "text": [
      "Training until validation scores don't improve for 50 rounds\n",
      "Early stopping, best iteration is:\n",
      "[439]\tvalid_0's multi_logloss: 0.725178\n"
     ]
    },
    {
     "name": "stderr",
     "output_type": "stream",
     "text": [
      "\u001b[32m[I 2021-04-25 22:10:25,999]\u001b[0m Trial 5 finished with value: 0.725177905337968 and parameters: {'learning_rate': 0.0266735997985797, 'num_leaves': 288, 'feature_fraction': 0.365090095394893, 'bagging_fraction': 0.749186054153321, 'bagging_freq': 8, 'min_child_samples': 50}. Best is trial 3 with value: 0.7106602185671705.\u001b[0m\n"
     ]
    },
    {
     "name": "stdout",
     "output_type": "stream",
     "text": [
      "Training until validation scores don't improve for 50 rounds\n",
      "Early stopping, best iteration is:\n",
      "[280]\tvalid_0's multi_logloss: 0.710749\n"
     ]
    },
    {
     "name": "stderr",
     "output_type": "stream",
     "text": [
      "\u001b[32m[I 2021-04-25 22:10:37,104]\u001b[0m Trial 6 finished with value: 0.7107491378328881 and parameters: {'learning_rate': 0.0223724744517544, 'num_leaves': 470, 'feature_fraction': 0.3140653795401817, 'bagging_fraction': 0.930490705204175, 'bagging_freq': 2, 'min_child_samples': 6}. Best is trial 3 with value: 0.7106602185671705.\u001b[0m\n"
     ]
    },
    {
     "name": "stdout",
     "output_type": "stream",
     "text": [
      "Training until validation scores don't improve for 50 rounds\n",
      "Early stopping, best iteration is:\n",
      "[268]\tvalid_0's multi_logloss: 0.71169\n"
     ]
    },
    {
     "name": "stderr",
     "output_type": "stream",
     "text": [
      "\u001b[32m[I 2021-04-25 22:10:46,975]\u001b[0m Trial 7 finished with value: 0.7116903402447124 and parameters: {'learning_rate': 0.015385673362585381, 'num_leaves': 405, 'feature_fraction': 0.6716064896120247, 'bagging_fraction': 0.7278102890539477, 'bagging_freq': 6, 'min_child_samples': 2}. Best is trial 3 with value: 0.7106602185671705.\u001b[0m\n"
     ]
    },
    {
     "name": "stdout",
     "output_type": "stream",
     "text": [
      "Training until validation scores don't improve for 50 rounds\n",
      "[500]\tvalid_0's multi_logloss: 0.719774\n",
      "Early stopping, best iteration is:\n",
      "[484]\tvalid_0's multi_logloss: 0.719364\n"
     ]
    },
    {
     "name": "stderr",
     "output_type": "stream",
     "text": [
      "\u001b[32m[I 2021-04-25 22:10:52,102]\u001b[0m Trial 8 finished with value: 0.7193644257280205 and parameters: {'learning_rate': 0.02626788717776523, 'num_leaves': 118, 'feature_fraction': 0.6930747391353976, 'bagging_fraction': 0.9655024198886808, 'bagging_freq': 11, 'min_child_samples': 18}. Best is trial 3 with value: 0.7106602185671705.\u001b[0m\n"
     ]
    },
    {
     "name": "stdout",
     "output_type": "stream",
     "text": [
      "Training until validation scores don't improve for 50 rounds\n",
      "[500]\tvalid_0's multi_logloss: 0.736391\n",
      "[1000]\tvalid_0's multi_logloss: 0.722692\n",
      "Early stopping, best iteration is:\n",
      "[1093]\tvalid_0's multi_logloss: 0.721636\n"
     ]
    },
    {
     "name": "stderr",
     "output_type": "stream",
     "text": [
      "\u001b[32m[I 2021-04-25 22:10:59,478]\u001b[0m Trial 9 finished with value: 0.7216360959098835 and parameters: {'learning_rate': 0.019256249384504202, 'num_leaves': 59, 'feature_fraction': 0.5726373604543189, 'bagging_fraction': 0.7391342657160274, 'bagging_freq': 5, 'min_child_samples': 19}. Best is trial 3 with value: 0.7106602185671705.\u001b[0m\n"
     ]
    },
    {
     "name": "stdout",
     "output_type": "stream",
     "text": [
      "Best Value: 0.7106602185671705\n",
      "Best trial: {'learning_rate': 0.014586935384537909, 'num_leaves': 301, 'feature_fraction': 0.37888773054685226, 'bagging_fraction': 0.7324217849997937, 'bagging_freq': 1, 'min_child_samples': 13}\n"
     ]
    }
   ],
   "source": [
    "study = optuna.create_study(direction='minimize')\n",
    "study.optimize(objective, n_trials=10)\n",
    "\n",
    "print('Best Value:', study.best_value)\n",
    "print('Best trial:', study.best_trial.params)"
   ]
  },
  {
   "cell_type": "code",
   "execution_count": 81,
   "metadata": {
    "scrolled": true
   },
   "outputs": [
    {
     "data": {
      "text/html": [
       "<div>\n",
       "<style scoped>\n",
       "    .dataframe tbody tr th:only-of-type {\n",
       "        vertical-align: middle;\n",
       "    }\n",
       "\n",
       "    .dataframe tbody tr th {\n",
       "        vertical-align: top;\n",
       "    }\n",
       "\n",
       "    .dataframe thead th {\n",
       "        text-align: right;\n",
       "    }\n",
       "</style>\n",
       "<table border=\"1\" class=\"dataframe\">\n",
       "  <thead>\n",
       "    <tr style=\"text-align: right;\">\n",
       "      <th></th>\n",
       "      <th>number</th>\n",
       "      <th>value</th>\n",
       "      <th>datetime_start</th>\n",
       "      <th>datetime_complete</th>\n",
       "      <th>duration</th>\n",
       "      <th>params_bagging_fraction</th>\n",
       "      <th>params_bagging_freq</th>\n",
       "      <th>params_feature_fraction</th>\n",
       "      <th>params_learning_rate</th>\n",
       "      <th>params_min_child_samples</th>\n",
       "      <th>params_num_leaves</th>\n",
       "      <th>state</th>\n",
       "    </tr>\n",
       "  </thead>\n",
       "  <tbody>\n",
       "    <tr>\n",
       "      <th>3</th>\n",
       "      <td>3</td>\n",
       "      <td>0.71066021856717054294705349093419499695301055...</td>\n",
       "      <td>2021-04-25 22:09:49.365956</td>\n",
       "      <td>2021-04-25 22:10:00.714974</td>\n",
       "      <td>0 days 00:00:11.349018</td>\n",
       "      <td>0.73242178499979371242289971632999368011951446...</td>\n",
       "      <td>1</td>\n",
       "      <td>0.37888773054685226382432006175804417580366134...</td>\n",
       "      <td>0.01458693538453790898568041001226447406224906...</td>\n",
       "      <td>13</td>\n",
       "      <td>301</td>\n",
       "      <td>COMPLETE</td>\n",
       "    </tr>\n",
       "    <tr>\n",
       "      <th>6</th>\n",
       "      <td>6</td>\n",
       "      <td>0.71074913783288806712334917392581701278686523...</td>\n",
       "      <td>2021-04-25 22:10:26.000027</td>\n",
       "      <td>2021-04-25 22:10:37.104080</td>\n",
       "      <td>0 days 00:00:11.104053</td>\n",
       "      <td>0.93049070520417498375564946400118060410022735...</td>\n",
       "      <td>2</td>\n",
       "      <td>0.31406537954018171054926256147155072540044784...</td>\n",
       "      <td>0.02237247445175440108133813055246719159185886...</td>\n",
       "      <td>6</td>\n",
       "      <td>470</td>\n",
       "      <td>COMPLETE</td>\n",
       "    </tr>\n",
       "    <tr>\n",
       "      <th>7</th>\n",
       "      <td>7</td>\n",
       "      <td>0.71169034024471244936904668065835721790790557...</td>\n",
       "      <td>2021-04-25 22:10:37.105080</td>\n",
       "      <td>2021-04-25 22:10:46.975080</td>\n",
       "      <td>0 days 00:00:09.870000</td>\n",
       "      <td>0.72781028905394773431680732755921781063079833...</td>\n",
       "      <td>6</td>\n",
       "      <td>0.67160648961202473739007245967513881623744964...</td>\n",
       "      <td>0.01538567336258538087445657538410159759223461...</td>\n",
       "      <td>2</td>\n",
       "      <td>405</td>\n",
       "      <td>COMPLETE</td>\n",
       "    </tr>\n",
       "    <tr>\n",
       "      <th>0</th>\n",
       "      <td>0</td>\n",
       "      <td>0.71679362578492544777475359296659007668495178...</td>\n",
       "      <td>2021-04-25 22:09:21.639092</td>\n",
       "      <td>2021-04-25 22:09:28.876956</td>\n",
       "      <td>0 days 00:00:07.237864</td>\n",
       "      <td>0.70044956845214823015766114622238092124462127...</td>\n",
       "      <td>2</td>\n",
       "      <td>0.49687929542446773734098997010733000934123992...</td>\n",
       "      <td>0.01987026064858488441644546185216313460841774...</td>\n",
       "      <td>19</td>\n",
       "      <td>108</td>\n",
       "      <td>COMPLETE</td>\n",
       "    </tr>\n",
       "    <tr>\n",
       "      <th>1</th>\n",
       "      <td>1</td>\n",
       "      <td>0.71742263606039191614627270610071718692779541...</td>\n",
       "      <td>2021-04-25 22:09:28.877956</td>\n",
       "      <td>2021-04-25 22:09:38.436956</td>\n",
       "      <td>0 days 00:00:09.559000</td>\n",
       "      <td>0.94351235740572936272485549125121906399726867...</td>\n",
       "      <td>10</td>\n",
       "      <td>0.35788757788324082609321408199321012943983078...</td>\n",
       "      <td>0.02008951478859104938790025585149123799055814...</td>\n",
       "      <td>32</td>\n",
       "      <td>207</td>\n",
       "      <td>COMPLETE</td>\n",
       "    </tr>\n",
       "    <tr>\n",
       "      <th>8</th>\n",
       "      <td>8</td>\n",
       "      <td>0.71936442572802050676727958489209413528442382...</td>\n",
       "      <td>2021-04-25 22:10:46.975080</td>\n",
       "      <td>2021-04-25 22:10:52.101081</td>\n",
       "      <td>0 days 00:00:05.126001</td>\n",
       "      <td>0.96550241988868079623387075116625055670738220...</td>\n",
       "      <td>11</td>\n",
       "      <td>0.69307473913539763277213978653890080749988555...</td>\n",
       "      <td>0.02626788717776522980029696441306441556662321...</td>\n",
       "      <td>18</td>\n",
       "      <td>118</td>\n",
       "      <td>COMPLETE</td>\n",
       "    </tr>\n",
       "    <tr>\n",
       "      <th>4</th>\n",
       "      <td>4</td>\n",
       "      <td>0.72134850640085768080922434819513000547885894...</td>\n",
       "      <td>2021-04-25 22:10:00.716980</td>\n",
       "      <td>2021-04-25 22:10:18.345025</td>\n",
       "      <td>0 days 00:00:17.628045</td>\n",
       "      <td>0.97778494213234012910618275782326236367225646...</td>\n",
       "      <td>5</td>\n",
       "      <td>0.48784970583180342629248116281814873218536376...</td>\n",
       "      <td>0.01082526880145337142002937014240160351619124...</td>\n",
       "      <td>55</td>\n",
       "      <td>448</td>\n",
       "      <td>COMPLETE</td>\n",
       "    </tr>\n",
       "    <tr>\n",
       "      <th>9</th>\n",
       "      <td>9</td>\n",
       "      <td>0.72163609590988353481577632919652387499809265...</td>\n",
       "      <td>2021-04-25 22:10:52.102081</td>\n",
       "      <td>2021-04-25 22:10:59.478631</td>\n",
       "      <td>0 days 00:00:07.376550</td>\n",
       "      <td>0.73913426571602736103727693262044340372085571...</td>\n",
       "      <td>5</td>\n",
       "      <td>0.57263736045431889998269525676732882857322692...</td>\n",
       "      <td>0.01925624938450420237101567977333615999668836...</td>\n",
       "      <td>19</td>\n",
       "      <td>59</td>\n",
       "      <td>COMPLETE</td>\n",
       "    </tr>\n",
       "    <tr>\n",
       "      <th>2</th>\n",
       "      <td>2</td>\n",
       "      <td>0.72369172281627103249235233306535519659519195...</td>\n",
       "      <td>2021-04-25 22:09:38.436956</td>\n",
       "      <td>2021-04-25 22:09:49.363956</td>\n",
       "      <td>0 days 00:00:10.927000</td>\n",
       "      <td>0.93330312088708122786329113296233117580413818...</td>\n",
       "      <td>2</td>\n",
       "      <td>0.53539038759055090910266017090179957449436187...</td>\n",
       "      <td>0.01666850128392376867436652787546336185187101...</td>\n",
       "      <td>64</td>\n",
       "      <td>389</td>\n",
       "      <td>COMPLETE</td>\n",
       "    </tr>\n",
       "    <tr>\n",
       "      <th>5</th>\n",
       "      <td>5</td>\n",
       "      <td>0.72517790533796799845589475808083079755306243...</td>\n",
       "      <td>2021-04-25 22:10:18.346025</td>\n",
       "      <td>2021-04-25 22:10:25.999025</td>\n",
       "      <td>0 days 00:00:07.653000</td>\n",
       "      <td>0.74918605415332095720515326320310123264789581...</td>\n",
       "      <td>8</td>\n",
       "      <td>0.36509009539489301054970837867585942149162292...</td>\n",
       "      <td>0.02667359979857970159189406444966152776032686...</td>\n",
       "      <td>50</td>\n",
       "      <td>288</td>\n",
       "      <td>COMPLETE</td>\n",
       "    </tr>\n",
       "  </tbody>\n",
       "</table>\n",
       "</div>"
      ],
      "text/plain": [
       "   number                                              value  \\\n",
       "3       3  0.71066021856717054294705349093419499695301055...   \n",
       "6       6  0.71074913783288806712334917392581701278686523...   \n",
       "7       7  0.71169034024471244936904668065835721790790557...   \n",
       "0       0  0.71679362578492544777475359296659007668495178...   \n",
       "1       1  0.71742263606039191614627270610071718692779541...   \n",
       "8       8  0.71936442572802050676727958489209413528442382...   \n",
       "4       4  0.72134850640085768080922434819513000547885894...   \n",
       "9       9  0.72163609590988353481577632919652387499809265...   \n",
       "2       2  0.72369172281627103249235233306535519659519195...   \n",
       "5       5  0.72517790533796799845589475808083079755306243...   \n",
       "\n",
       "              datetime_start          datetime_complete  \\\n",
       "3 2021-04-25 22:09:49.365956 2021-04-25 22:10:00.714974   \n",
       "6 2021-04-25 22:10:26.000027 2021-04-25 22:10:37.104080   \n",
       "7 2021-04-25 22:10:37.105080 2021-04-25 22:10:46.975080   \n",
       "0 2021-04-25 22:09:21.639092 2021-04-25 22:09:28.876956   \n",
       "1 2021-04-25 22:09:28.877956 2021-04-25 22:09:38.436956   \n",
       "8 2021-04-25 22:10:46.975080 2021-04-25 22:10:52.101081   \n",
       "4 2021-04-25 22:10:00.716980 2021-04-25 22:10:18.345025   \n",
       "9 2021-04-25 22:10:52.102081 2021-04-25 22:10:59.478631   \n",
       "2 2021-04-25 22:09:38.436956 2021-04-25 22:09:49.363956   \n",
       "5 2021-04-25 22:10:18.346025 2021-04-25 22:10:25.999025   \n",
       "\n",
       "                duration                            params_bagging_fraction  \\\n",
       "3 0 days 00:00:11.349018  0.73242178499979371242289971632999368011951446...   \n",
       "6 0 days 00:00:11.104053  0.93049070520417498375564946400118060410022735...   \n",
       "7 0 days 00:00:09.870000  0.72781028905394773431680732755921781063079833...   \n",
       "0 0 days 00:00:07.237864  0.70044956845214823015766114622238092124462127...   \n",
       "1 0 days 00:00:09.559000  0.94351235740572936272485549125121906399726867...   \n",
       "8 0 days 00:00:05.126001  0.96550241988868079623387075116625055670738220...   \n",
       "4 0 days 00:00:17.628045  0.97778494213234012910618275782326236367225646...   \n",
       "9 0 days 00:00:07.376550  0.73913426571602736103727693262044340372085571...   \n",
       "2 0 days 00:00:10.927000  0.93330312088708122786329113296233117580413818...   \n",
       "5 0 days 00:00:07.653000  0.74918605415332095720515326320310123264789581...   \n",
       "\n",
       "   params_bagging_freq                            params_feature_fraction  \\\n",
       "3                    1  0.37888773054685226382432006175804417580366134...   \n",
       "6                    2  0.31406537954018171054926256147155072540044784...   \n",
       "7                    6  0.67160648961202473739007245967513881623744964...   \n",
       "0                    2  0.49687929542446773734098997010733000934123992...   \n",
       "1                   10  0.35788757788324082609321408199321012943983078...   \n",
       "8                   11  0.69307473913539763277213978653890080749988555...   \n",
       "4                    5  0.48784970583180342629248116281814873218536376...   \n",
       "9                    5  0.57263736045431889998269525676732882857322692...   \n",
       "2                    2  0.53539038759055090910266017090179957449436187...   \n",
       "5                    8  0.36509009539489301054970837867585942149162292...   \n",
       "\n",
       "                                params_learning_rate  \\\n",
       "3  0.01458693538453790898568041001226447406224906...   \n",
       "6  0.02237247445175440108133813055246719159185886...   \n",
       "7  0.01538567336258538087445657538410159759223461...   \n",
       "0  0.01987026064858488441644546185216313460841774...   \n",
       "1  0.02008951478859104938790025585149123799055814...   \n",
       "8  0.02626788717776522980029696441306441556662321...   \n",
       "4  0.01082526880145337142002937014240160351619124...   \n",
       "9  0.01925624938450420237101567977333615999668836...   \n",
       "2  0.01666850128392376867436652787546336185187101...   \n",
       "5  0.02667359979857970159189406444966152776032686...   \n",
       "\n",
       "   params_min_child_samples  params_num_leaves     state  \n",
       "3                        13                301  COMPLETE  \n",
       "6                         6                470  COMPLETE  \n",
       "7                         2                405  COMPLETE  \n",
       "0                        19                108  COMPLETE  \n",
       "1                        32                207  COMPLETE  \n",
       "8                        18                118  COMPLETE  \n",
       "4                        55                448  COMPLETE  \n",
       "9                        19                 59  COMPLETE  \n",
       "2                        64                389  COMPLETE  \n",
       "5                        50                288  COMPLETE  "
      ]
     },
     "execution_count": 81,
     "metadata": {},
     "output_type": "execute_result"
    }
   ],
   "source": [
    "study.trials_dataframe().sort_values(['value']).head(20)"
   ]
  },
  {
   "cell_type": "code",
   "execution_count": 82,
   "metadata": {
    "scrolled": true
   },
   "outputs": [
    {
     "data": {
      "text/plain": [
       "{'learning_rate': 0.014586935384537909,\n",
       " 'num_leaves': 301,\n",
       " 'feature_fraction': 0.37888773054685226,\n",
       " 'bagging_fraction': 0.7324217849997937,\n",
       " 'bagging_freq': 1,\n",
       " 'min_child_samples': 13}"
      ]
     },
     "execution_count": 82,
     "metadata": {},
     "output_type": "execute_result"
    }
   ],
   "source": [
    "study.best_params"
   ]
  },
  {
   "cell_type": "code",
   "execution_count": 83,
   "metadata": {},
   "outputs": [
    {
     "data": {
      "text/plain": [
       "0.7106602185671705"
      ]
     },
     "execution_count": 83,
     "metadata": {},
     "output_type": "execute_result"
    }
   ],
   "source": [
    "study.best_value"
   ]
  },
  {
   "cell_type": "code",
   "execution_count": 84,
   "metadata": {},
   "outputs": [],
   "source": [
    "with open(f'./data/study_{study.best_value}.pkl', 'wb') as f:\n",
    "    pickle.dump(study, f)"
   ]
  },
  {
   "cell_type": "code",
   "execution_count": 85,
   "metadata": {},
   "outputs": [],
   "source": [
    "with open(f'./data/study_{study.best_value}.pkl', 'rb') as f:\n",
    "    study = pickle.load(f)"
   ]
  },
  {
   "cell_type": "code",
   "execution_count": 86,
   "metadata": {},
   "outputs": [],
   "source": [
    "params = study.best_params"
   ]
  },
  {
   "cell_type": "code",
   "execution_count": 87,
   "metadata": {
    "scrolled": true
   },
   "outputs": [
    {
     "data": {
      "text/plain": [
       "{'learning_rate': 0.014586935384537909,\n",
       " 'num_leaves': 301,\n",
       " 'feature_fraction': 0.37888773054685226,\n",
       " 'bagging_fraction': 0.7324217849997937,\n",
       " 'bagging_freq': 1,\n",
       " 'min_child_samples': 13}"
      ]
     },
     "execution_count": 87,
     "metadata": {},
     "output_type": "execute_result"
    }
   ],
   "source": [
    "params"
   ]
  },
  {
   "cell_type": "code",
   "execution_count": 88,
   "metadata": {},
   "outputs": [],
   "source": [
    "lgbm = lgb.LGBMClassifier(**params, n_estimators=2000)"
   ]
  },
  {
   "cell_type": "code",
   "execution_count": 89,
   "metadata": {
    "scrolled": false
   },
   "outputs": [
    {
     "name": "stdout",
     "output_type": "stream",
     "text": [
      "[LightGBM] [Warning] feature_fraction is set=0.37888773054685226, colsample_bytree=1.0 will be ignored. Current value: feature_fraction=0.37888773054685226\n",
      "[LightGBM] [Warning] bagging_fraction is set=0.7324217849997937, subsample=1.0 will be ignored. Current value: bagging_fraction=0.7324217849997937\n",
      "[LightGBM] [Warning] bagging_freq is set=1, subsample_freq=0 will be ignored. Current value: bagging_freq=1\n",
      "Training until validation scores don't improve for 50 rounds\n",
      "[100]\ttraining's multi_logloss: 0.686745\tvalid_1's multi_logloss: 0.773023\n",
      "[200]\ttraining's multi_logloss: 0.581127\tvalid_1's multi_logloss: 0.731307\n",
      "[300]\ttraining's multi_logloss: 0.508101\tvalid_1's multi_logloss: 0.71174\n",
      "[400]\ttraining's multi_logloss: 0.455977\tvalid_1's multi_logloss: 0.702923\n",
      "[500]\ttraining's multi_logloss: 0.412164\tvalid_1's multi_logloss: 0.700344\n",
      "Early stopping, best iteration is:\n",
      "[531]\ttraining's multi_logloss: 0.398957\tvalid_1's multi_logloss: 0.700019\n"
     ]
    },
    {
     "data": {
      "text/plain": [
       "0.700019133079757"
      ]
     },
     "execution_count": 89,
     "metadata": {},
     "output_type": "execute_result"
    }
   ],
   "source": [
    "get_scores(lgbm, X_train, y_train)"
   ]
  },
  {
   "cell_type": "code",
   "execution_count": 74,
   "metadata": {},
   "outputs": [],
   "source": [
    "def ensemble_bagging(X_train, y_train, params, trials=5):\n",
    "    \n",
    "    train_x, test_x, train_y, test_y = train_test_split(X_train, y_train, random_state=random_state, test_size=0.1)\n",
    "    \n",
    "    prediction_list = []\n",
    "    for _ in range(trials):\n",
    "        data_index = [i for i in range(train_x.shape[0])]\n",
    "        random_index = np.random.choice(data_index, train_x.shape[0], replace=True)\n",
    "        \n",
    "        gbm = lgb.LGBMClassifier(**params, n_estimators=2000)\n",
    "        gbm.fit(train_x.iloc[random_index], train_y.iloc[random_index], eval_set=[(train_x, train_y), (test_x, test_y)], early_stopping_rounds=50, verbose=100)\n",
    "        preds = gbm.predict_proba(X_test)\n",
    "        \n",
    "        prediction_list.append(preds)\n",
    "        \n",
    "    return prediction_list"
   ]
  },
  {
   "cell_type": "code",
   "execution_count": 76,
   "metadata": {},
   "outputs": [],
   "source": [
    "def save_submission(X_train, y_train, study, split=5):\n",
    "    param = study.best_params\n",
    "    \n",
    "    loss_list = []\n",
    "    \n",
    "    # StraifiedKFold\n",
    "    skf = StratifiedKFold(n_splits=split, shuffle=True, random_state=42)\n",
    "    folds=[]\n",
    "    for train_idx, val_idx in skf.split(X_train, y_train):\n",
    "        folds.append((train_idx, val_idx))\n",
    "\n",
    "    lgb_models={}\n",
    "    for fold in range(split):\n",
    "        print(f'===================================={fold+1}============================================')\n",
    "        train_idx, val_idx = folds[fold]\n",
    "        train_x, val_x, train_y, val_y = X_train.iloc[train_idx].values, X_train.iloc[val_idx].values,\\\n",
    "                                             y_train[train_idx].values, y_train[val_idx].values \n",
    "        lgbm = lgb.LGBMClassifier(**param, n_estimators=2000)\n",
    "        lgbm.fit(train_x, train_y, \n",
    "                eval_set=[(train_x, train_y), (val_x, val_y)], \n",
    "                early_stopping_rounds=50,\n",
    "               verbose=200)\n",
    "        pred = lgbm.predict_proba(val_x)\n",
    "        loss_list.append(log_loss(val_y, pred))\n",
    "        lgb_models[fold]=lgbm\n",
    "        print(f'================================================================================\\n\\n')\n",
    "        \n",
    "    submission.iloc[:,1:] = 0\n",
    "    mean_loss = np.mean(loss_list)\n",
    "    print(f'mean loss : {mean_loss}')\n",
    "    \n",
    "    for fold in range(split):\n",
    "        submission.iloc[:,1:] += lgb_models[fold].predict_proba(X_test)/split\n",
    "    \n",
    "    return submission, mean_loss"
   ]
  },
  {
   "cell_type": "code",
   "execution_count": 90,
   "metadata": {
    "scrolled": false
   },
   "outputs": [
    {
     "name": "stdout",
     "output_type": "stream",
     "text": [
      "====================================1============================================\n",
      "[LightGBM] [Warning] feature_fraction is set=0.37888773054685226, colsample_bytree=1.0 will be ignored. Current value: feature_fraction=0.37888773054685226\n",
      "[LightGBM] [Warning] bagging_fraction is set=0.7324217849997937, subsample=1.0 will be ignored. Current value: bagging_fraction=0.7324217849997937\n",
      "[LightGBM] [Warning] bagging_freq is set=1, subsample_freq=0 will be ignored. Current value: bagging_freq=1\n",
      "Training until validation scores don't improve for 50 rounds\n",
      "[200]\ttraining's multi_logloss: 0.570214\tvalid_1's multi_logloss: 0.73203\n",
      "[400]\ttraining's multi_logloss: 0.441147\tvalid_1's multi_logloss: 0.701162\n",
      "[600]\ttraining's multi_logloss: 0.358826\tvalid_1's multi_logloss: 0.696786\n",
      "Early stopping, best iteration is:\n",
      "[584]\ttraining's multi_logloss: 0.36345\tvalid_1's multi_logloss: 0.69657\n",
      "================================================================================\n",
      "\n",
      "\n",
      "====================================2============================================\n",
      "[LightGBM] [Warning] feature_fraction is set=0.37888773054685226, colsample_bytree=1.0 will be ignored. Current value: feature_fraction=0.37888773054685226\n",
      "[LightGBM] [Warning] bagging_fraction is set=0.7324217849997937, subsample=1.0 will be ignored. Current value: bagging_fraction=0.7324217849997937\n",
      "[LightGBM] [Warning] bagging_freq is set=1, subsample_freq=0 will be ignored. Current value: bagging_freq=1\n",
      "Training until validation scores don't improve for 50 rounds\n",
      "[200]\ttraining's multi_logloss: 0.568966\tvalid_1's multi_logloss: 0.737921\n",
      "[400]\ttraining's multi_logloss: 0.438994\tvalid_1's multi_logloss: 0.712303\n",
      "Early stopping, best iteration is:\n",
      "[485]\ttraining's multi_logloss: 0.400029\tvalid_1's multi_logloss: 0.710607\n",
      "================================================================================\n",
      "\n",
      "\n",
      "====================================3============================================\n",
      "[LightGBM] [Warning] feature_fraction is set=0.37888773054685226, colsample_bytree=1.0 will be ignored. Current value: feature_fraction=0.37888773054685226\n",
      "[LightGBM] [Warning] bagging_fraction is set=0.7324217849997937, subsample=1.0 will be ignored. Current value: bagging_fraction=0.7324217849997937\n",
      "[LightGBM] [Warning] bagging_freq is set=1, subsample_freq=0 will be ignored. Current value: bagging_freq=1\n",
      "Training until validation scores don't improve for 50 rounds\n",
      "[200]\ttraining's multi_logloss: 0.567853\tvalid_1's multi_logloss: 0.73728\n",
      "[400]\ttraining's multi_logloss: 0.437404\tvalid_1's multi_logloss: 0.712409\n",
      "Early stopping, best iteration is:\n",
      "[490]\ttraining's multi_logloss: 0.396026\tvalid_1's multi_logloss: 0.711011\n",
      "================================================================================\n",
      "\n",
      "\n",
      "====================================4============================================\n",
      "[LightGBM] [Warning] feature_fraction is set=0.37888773054685226, colsample_bytree=1.0 will be ignored. Current value: feature_fraction=0.37888773054685226\n",
      "[LightGBM] [Warning] bagging_fraction is set=0.7324217849997937, subsample=1.0 will be ignored. Current value: bagging_fraction=0.7324217849997937\n",
      "[LightGBM] [Warning] bagging_freq is set=1, subsample_freq=0 will be ignored. Current value: bagging_freq=1\n",
      "Training until validation scores don't improve for 50 rounds\n",
      "[200]\ttraining's multi_logloss: 0.568964\tvalid_1's multi_logloss: 0.733013\n",
      "[400]\ttraining's multi_logloss: 0.439471\tvalid_1's multi_logloss: 0.703749\n",
      "Early stopping, best iteration is:\n",
      "[501]\ttraining's multi_logloss: 0.393747\tvalid_1's multi_logloss: 0.699807\n",
      "================================================================================\n",
      "\n",
      "\n",
      "====================================5============================================\n",
      "[LightGBM] [Warning] feature_fraction is set=0.37888773054685226, colsample_bytree=1.0 will be ignored. Current value: feature_fraction=0.37888773054685226\n",
      "[LightGBM] [Warning] bagging_fraction is set=0.7324217849997937, subsample=1.0 will be ignored. Current value: bagging_fraction=0.7324217849997937\n",
      "[LightGBM] [Warning] bagging_freq is set=1, subsample_freq=0 will be ignored. Current value: bagging_freq=1\n",
      "Training until validation scores don't improve for 50 rounds\n",
      "[200]\ttraining's multi_logloss: 0.56844\tvalid_1's multi_logloss: 0.737251\n",
      "[400]\ttraining's multi_logloss: 0.437725\tvalid_1's multi_logloss: 0.713846\n",
      "Early stopping, best iteration is:\n",
      "[487]\ttraining's multi_logloss: 0.39803\tvalid_1's multi_logloss: 0.71242\n",
      "================================================================================\n",
      "\n",
      "\n",
      "mean loss : 0.7060830844123048\n"
     ]
    }
   ],
   "source": [
    "submission, mean_loss = save_submission(X_train, y_train, study, split=5)"
   ]
  },
  {
   "cell_type": "code",
   "execution_count": 91,
   "metadata": {},
   "outputs": [
    {
     "data": {
      "text/html": [
       "<div>\n",
       "<style scoped>\n",
       "    .dataframe tbody tr th:only-of-type {\n",
       "        vertical-align: middle;\n",
       "    }\n",
       "\n",
       "    .dataframe tbody tr th {\n",
       "        vertical-align: top;\n",
       "    }\n",
       "\n",
       "    .dataframe thead th {\n",
       "        text-align: right;\n",
       "    }\n",
       "</style>\n",
       "<table border=\"1\" class=\"dataframe\">\n",
       "  <thead>\n",
       "    <tr style=\"text-align: right;\">\n",
       "      <th></th>\n",
       "      <th>index</th>\n",
       "      <th>0</th>\n",
       "      <th>1</th>\n",
       "      <th>2</th>\n",
       "    </tr>\n",
       "  </thead>\n",
       "  <tbody>\n",
       "    <tr>\n",
       "      <th>0</th>\n",
       "      <td>26457</td>\n",
       "      <td>0.06647676208046805756968211653656908310949802...</td>\n",
       "      <td>0.11323757219218580361008719137316802516579627...</td>\n",
       "      <td>0.82028566572734618045359411553363315761089324...</td>\n",
       "    </tr>\n",
       "    <tr>\n",
       "      <th>1</th>\n",
       "      <td>26458</td>\n",
       "      <td>0.23604783786774582998724270055390661582350730...</td>\n",
       "      <td>0.20479184057796442908205847288627410307526588...</td>\n",
       "      <td>0.55916032155428985195300128907547332346439361...</td>\n",
       "    </tr>\n",
       "    <tr>\n",
       "      <th>2</th>\n",
       "      <td>26459</td>\n",
       "      <td>0.04391536461080468994877534782972361426800489...</td>\n",
       "      <td>0.08901996561039240973833841508167097344994544...</td>\n",
       "      <td>0.86706466977880292112956794881029054522514343...</td>\n",
       "    </tr>\n",
       "    <tr>\n",
       "      <th>3</th>\n",
       "      <td>26460</td>\n",
       "      <td>0.11437604038783974469417614727717591449618339...</td>\n",
       "      <td>0.13498302832558631281223426867654779925942420...</td>\n",
       "      <td>0.75064093128657394249358958404627628624439239...</td>\n",
       "    </tr>\n",
       "    <tr>\n",
       "      <th>4</th>\n",
       "      <td>26461</td>\n",
       "      <td>0.05177696915501377866730692289820581208914518...</td>\n",
       "      <td>0.17458874901041743221696833643363788723945617...</td>\n",
       "      <td>0.77363428183456872666567960550310090184211730...</td>\n",
       "    </tr>\n",
       "    <tr>\n",
       "      <th>...</th>\n",
       "      <td>...</td>\n",
       "      <td>...</td>\n",
       "      <td>...</td>\n",
       "      <td>...</td>\n",
       "    </tr>\n",
       "    <tr>\n",
       "      <th>9995</th>\n",
       "      <td>36452</td>\n",
       "      <td>0.09445052941739916219088257776093087159097194...</td>\n",
       "      <td>0.30211195664150303219486204397981055080890655...</td>\n",
       "      <td>0.60343751394109790275877003296045586466789245...</td>\n",
       "    </tr>\n",
       "    <tr>\n",
       "      <th>9996</th>\n",
       "      <td>36453</td>\n",
       "      <td>0.31985201155877723833143022602598648518323898...</td>\n",
       "      <td>0.30474373659052139684533244690101128071546554...</td>\n",
       "      <td>0.37540425185070136482323732707300223410129547...</td>\n",
       "    </tr>\n",
       "    <tr>\n",
       "      <th>9997</th>\n",
       "      <td>36454</td>\n",
       "      <td>0.02554770903822222577472800253417517524212598...</td>\n",
       "      <td>0.07522923148825531869388072436777292750775814...</td>\n",
       "      <td>0.89922305947352243471470956137636676430702209...</td>\n",
       "    </tr>\n",
       "    <tr>\n",
       "      <th>9998</th>\n",
       "      <td>36455</td>\n",
       "      <td>0.13138422620984535615917820905451662838459014...</td>\n",
       "      <td>0.29025806170353407598128114841529168188571929...</td>\n",
       "      <td>0.57835771208662056785954064253019168972969055...</td>\n",
       "    </tr>\n",
       "    <tr>\n",
       "      <th>9999</th>\n",
       "      <td>36456</td>\n",
       "      <td>0.06217795958890822566322853504061640705913305...</td>\n",
       "      <td>0.22447882101798893872413032113399822264909744...</td>\n",
       "      <td>0.71334321939310285642932285554707050323486328...</td>\n",
       "    </tr>\n",
       "  </tbody>\n",
       "</table>\n",
       "<p>10000 rows × 4 columns</p>\n",
       "</div>"
      ],
      "text/plain": [
       "      index                                                  0  \\\n",
       "0     26457  0.06647676208046805756968211653656908310949802...   \n",
       "1     26458  0.23604783786774582998724270055390661582350730...   \n",
       "2     26459  0.04391536461080468994877534782972361426800489...   \n",
       "3     26460  0.11437604038783974469417614727717591449618339...   \n",
       "4     26461  0.05177696915501377866730692289820581208914518...   \n",
       "...     ...                                                ...   \n",
       "9995  36452  0.09445052941739916219088257776093087159097194...   \n",
       "9996  36453  0.31985201155877723833143022602598648518323898...   \n",
       "9997  36454  0.02554770903822222577472800253417517524212598...   \n",
       "9998  36455  0.13138422620984535615917820905451662838459014...   \n",
       "9999  36456  0.06217795958890822566322853504061640705913305...   \n",
       "\n",
       "                                                      1  \\\n",
       "0     0.11323757219218580361008719137316802516579627...   \n",
       "1     0.20479184057796442908205847288627410307526588...   \n",
       "2     0.08901996561039240973833841508167097344994544...   \n",
       "3     0.13498302832558631281223426867654779925942420...   \n",
       "4     0.17458874901041743221696833643363788723945617...   \n",
       "...                                                 ...   \n",
       "9995  0.30211195664150303219486204397981055080890655...   \n",
       "9996  0.30474373659052139684533244690101128071546554...   \n",
       "9997  0.07522923148825531869388072436777292750775814...   \n",
       "9998  0.29025806170353407598128114841529168188571929...   \n",
       "9999  0.22447882101798893872413032113399822264909744...   \n",
       "\n",
       "                                                      2  \n",
       "0     0.82028566572734618045359411553363315761089324...  \n",
       "1     0.55916032155428985195300128907547332346439361...  \n",
       "2     0.86706466977880292112956794881029054522514343...  \n",
       "3     0.75064093128657394249358958404627628624439239...  \n",
       "4     0.77363428183456872666567960550310090184211730...  \n",
       "...                                                 ...  \n",
       "9995  0.60343751394109790275877003296045586466789245...  \n",
       "9996  0.37540425185070136482323732707300223410129547...  \n",
       "9997  0.89922305947352243471470956137636676430702209...  \n",
       "9998  0.57835771208662056785954064253019168972969055...  \n",
       "9999  0.71334321939310285642932285554707050323486328...  \n",
       "\n",
       "[10000 rows x 4 columns]"
      ]
     },
     "execution_count": 91,
     "metadata": {},
     "output_type": "execute_result"
    }
   ],
   "source": [
    "submission"
   ]
  },
  {
   "cell_type": "code",
   "execution_count": 92,
   "metadata": {},
   "outputs": [],
   "source": [
    "# submission 파일로 저장\n",
    "submission.to_csv(f'./data/submission_2104015_{mean_loss}.csv', index=False)"
   ]
  }
 ],
 "metadata": {
  "kernelspec": {
   "display_name": "tf240",
   "language": "python",
   "name": "tf240"
  },
  "language_info": {
   "codemirror_mode": {
    "name": "ipython",
    "version": 3
   },
   "file_extension": ".py",
   "mimetype": "text/x-python",
   "name": "python",
   "nbconvert_exporter": "python",
   "pygments_lexer": "ipython3",
   "version": "3.8.5"
  }
 },
 "nbformat": 4,
 "nbformat_minor": 4
}
